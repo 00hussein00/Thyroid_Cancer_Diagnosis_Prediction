{
  "metadata": {
    "kernelspec": {
      "language": "python",
      "display_name": "Python 3",
      "name": "python3"
    },
    "language_info": {
      "name": "python",
      "version": "3.10.12",
      "mimetype": "text/x-python",
      "codemirror_mode": {
        "name": "ipython",
        "version": 3
      },
      "pygments_lexer": "ipython3",
      "nbconvert_exporter": "python",
      "file_extension": ".py"
    },
    "kaggle": {
      "accelerator": "none",
      "dataSources": [
        {
          "sourceId": 10651737,
          "sourceType": "datasetVersion",
          "datasetId": 6595810
        }
      ],
      "dockerImageVersionId": 30886,
      "isInternetEnabled": false,
      "language": "python",
      "sourceType": "notebook",
      "isGpuEnabled": false
    },
    "colab": {
      "provenance": []
    }
  },
  "nbformat_minor": 0,
  "nbformat": 4,
  "cells": [
    {
      "source": [
        "# IMPORTANT: RUN THIS CELL IN ORDER TO IMPORT YOUR KAGGLE DATA SOURCES,\n",
        "# THEN FEEL FREE TO DELETE THIS CELL.\n",
        "# NOTE: THIS NOTEBOOK ENVIRONMENT DIFFERS FROM KAGGLE'S PYTHON\n",
        "# ENVIRONMENT SO THERE MAY BE MISSING LIBRARIES USED BY YOUR\n",
        "import kagglehub\n",
        "ankushpanday1_thyroid_cancer_risk_prediction_dataset_path = kagglehub.dataset_download('ankushpanday1/thyroid-cancer-risk-prediction-dataset')\n",
        "\n",
        "print('Data source import complete.')\n"
      ],
      "metadata": {
        "id": "bdVZziEbm0iE",
        "colab": {
          "base_uri": "https://localhost:8080/"
        },
        "outputId": "84eb0874-ad27-483d-8bf4-62983774bc0b"
      },
      "cell_type": "code",
      "outputs": [
        {
          "output_type": "stream",
          "name": "stdout",
          "text": [
            "Downloading from https://www.kaggle.com/api/v1/datasets/download/ankushpanday1/thyroid-cancer-risk-prediction-dataset?dataset_version_number=1...\n"
          ]
        },
        {
          "output_type": "stream",
          "name": "stderr",
          "text": [
            "100%|██████████| 3.70M/3.70M [00:00<00:00, 59.3MB/s]"
          ]
        },
        {
          "output_type": "stream",
          "name": "stdout",
          "text": [
            "Extracting files...\n"
          ]
        },
        {
          "output_type": "stream",
          "name": "stderr",
          "text": [
            "\n"
          ]
        },
        {
          "output_type": "stream",
          "name": "stdout",
          "text": [
            "Data source import complete.\n"
          ]
        }
      ],
      "execution_count": null
    },
    {
      "cell_type": "code",
      "source": [
        "#@title importing\n",
        "import pandas as pd\n",
        "import matplotlib.pyplot as plt\n",
        "import seaborn as sns\n",
        "from sklearn.model_selection import train_test_split\n",
        "from sklearn.metrics import accuracy_score, classification_report, confusion_matrix, f1_score, recall_score, precision_score\n",
        "from sklearn.neighbors import KNeighborsClassifier\n",
        "from sklearn.tree import DecisionTreeClassifier\n",
        "from sklearn.ensemble import RandomForestClassifier\n",
        "from sklearn.linear_model import LogisticRegression\n",
        "from imblearn.over_sampling import SMOTE\n",
        "from collections import Counter\n",
        "from sklearn.svm import SVC\n",
        "from sklearn.ensemble import GradientBoostingClassifier\n",
        "from sklearn.ensemble import AdaBoostClassifier\n",
        "from sklearn.naive_bayes import GaussianNB\n",
        "from sklearn.ensemble import ExtraTreesClassifier\n",
        "from sklearn.neural_network import MLPClassifier\n",
        "\n"
      ],
      "metadata": {
        "trusted": true,
        "execution": {
          "iopub.status.busy": "2025-02-11T15:18:42.785096Z",
          "iopub.execute_input": "2025-02-11T15:18:42.785552Z",
          "iopub.status.idle": "2025-02-11T15:18:42.792201Z",
          "shell.execute_reply.started": "2025-02-11T15:18:42.785508Z",
          "shell.execute_reply": "2025-02-11T15:18:42.79111Z"
        },
        "id": "nVvsMIXpm0iF",
        "cellView": "form"
      },
      "outputs": [],
      "execution_count": null
    },
    {
      "cell_type": "code",
      "source": [
        "#@title function evaluate_model\n",
        "res = {}\n",
        "def evaluate_model(model,y_test, y_pre):\n",
        "    \"\"\"\n",
        "    to evaluate the model\n",
        "\n",
        "    \"\"\"\n",
        "    results = {}\n",
        "\n",
        "    accuracy = accuracy_score(y_test, y_pre)\n",
        "    results['accuracy'] = accuracy\n",
        "\n",
        "    f1 = f1_score(y_test, y_pre, average='weighted')\n",
        "    results['f1_score'] = f1\n",
        "\n",
        "    recall = recall_score(y_test, y_pre, average='weighted')\n",
        "    results['recall'] = recall\n",
        "\n",
        "    precision = precision_score(y_test, y_pre, average='weighted')\n",
        "    results['precision'] = precision\n",
        "    res[model] = results\n",
        "    return results"
      ],
      "metadata": {
        "trusted": true,
        "execution": {
          "iopub.status.busy": "2025-02-11T15:18:42.793594Z",
          "iopub.execute_input": "2025-02-11T15:18:42.79395Z",
          "iopub.status.idle": "2025-02-11T15:18:42.81115Z",
          "shell.execute_reply.started": "2025-02-11T15:18:42.793911Z",
          "shell.execute_reply": "2025-02-11T15:18:42.810168Z"
        },
        "id": "HYLlUG6hm0iG",
        "cellView": "form"
      },
      "outputs": [],
      "execution_count": null
    },
    {
      "cell_type": "code",
      "source": [
        "#@title import dataset and save it in df\n",
        "#https://www.kaggle.com/datasets/ankushpanday1/thyroid-cancer-risk-prediction-dataset\n",
        "import kagglehub\n",
        "import pandas as pd\n",
        "\n",
        "# Download latest version\n",
        "path = kagglehub.dataset_download(\"ankushpanday1/thyroid-cancer-risk-prediction-dataset\")\n",
        "df=pd.read_csv(path+'/thyroid_cancer_risk_data.csv')\n"
      ],
      "metadata": {
        "trusted": true,
        "execution": {
          "iopub.status.busy": "2025-02-11T15:18:42.813118Z",
          "iopub.execute_input": "2025-02-11T15:18:42.813425Z",
          "iopub.status.idle": "2025-02-11T15:18:43.294734Z",
          "shell.execute_reply.started": "2025-02-11T15:18:42.8134Z",
          "shell.execute_reply": "2025-02-11T15:18:43.293661Z"
        },
        "id": "LN67MZPmm0iG"
      },
      "outputs": [],
      "execution_count": null
    },
    {
      "cell_type": "code",
      "source": [
        "df.head()"
      ],
      "metadata": {
        "id": "90UBm_bqTban",
        "outputId": "ffdb35c5-315c-4a69-83b2-820b5591f89b",
        "colab": {
          "base_uri": "https://localhost:8080/",
          "height": 226
        }
      },
      "execution_count": null,
      "outputs": [
        {
          "output_type": "execute_result",
          "data": {
            "text/plain": [
              "   Patient_ID  Age  Gender  Country  Ethnicity Family_History  \\\n",
              "0           1   66    Male   Russia  Caucasian             No   \n",
              "1           2   29    Male  Germany   Hispanic             No   \n",
              "2           3   86    Male  Nigeria  Caucasian             No   \n",
              "3           4   75  Female    India      Asian             No   \n",
              "4           5   35  Female  Germany    African            Yes   \n",
              "\n",
              "  Radiation_Exposure Iodine_Deficiency Smoking Obesity Diabetes  TSH_Level  \\\n",
              "0                Yes                No      No      No       No       9.37   \n",
              "1                Yes                No      No      No       No       1.83   \n",
              "2                 No                No      No      No       No       6.26   \n",
              "3                 No                No      No      No       No       4.10   \n",
              "4                Yes                No      No      No       No       9.10   \n",
              "\n",
              "   T3_Level  T4_Level  Nodule_Size Thyroid_Cancer_Risk Diagnosis  \n",
              "0      1.67      6.16         1.08                 Low    Benign  \n",
              "1      1.73     10.54         4.05                 Low    Benign  \n",
              "2      2.59     10.57         4.61                 Low    Benign  \n",
              "3      2.62     11.04         2.46              Medium    Benign  \n",
              "4      2.11     10.71         2.11                High    Benign  "
            ],
            "text/html": [
              "\n",
              "  <div id=\"df-020a38c8-3f05-4209-9825-8365f0ba1f18\" class=\"colab-df-container\">\n",
              "    <div>\n",
              "<style scoped>\n",
              "    .dataframe tbody tr th:only-of-type {\n",
              "        vertical-align: middle;\n",
              "    }\n",
              "\n",
              "    .dataframe tbody tr th {\n",
              "        vertical-align: top;\n",
              "    }\n",
              "\n",
              "    .dataframe thead th {\n",
              "        text-align: right;\n",
              "    }\n",
              "</style>\n",
              "<table border=\"1\" class=\"dataframe\">\n",
              "  <thead>\n",
              "    <tr style=\"text-align: right;\">\n",
              "      <th></th>\n",
              "      <th>Patient_ID</th>\n",
              "      <th>Age</th>\n",
              "      <th>Gender</th>\n",
              "      <th>Country</th>\n",
              "      <th>Ethnicity</th>\n",
              "      <th>Family_History</th>\n",
              "      <th>Radiation_Exposure</th>\n",
              "      <th>Iodine_Deficiency</th>\n",
              "      <th>Smoking</th>\n",
              "      <th>Obesity</th>\n",
              "      <th>Diabetes</th>\n",
              "      <th>TSH_Level</th>\n",
              "      <th>T3_Level</th>\n",
              "      <th>T4_Level</th>\n",
              "      <th>Nodule_Size</th>\n",
              "      <th>Thyroid_Cancer_Risk</th>\n",
              "      <th>Diagnosis</th>\n",
              "    </tr>\n",
              "  </thead>\n",
              "  <tbody>\n",
              "    <tr>\n",
              "      <th>0</th>\n",
              "      <td>1</td>\n",
              "      <td>66</td>\n",
              "      <td>Male</td>\n",
              "      <td>Russia</td>\n",
              "      <td>Caucasian</td>\n",
              "      <td>No</td>\n",
              "      <td>Yes</td>\n",
              "      <td>No</td>\n",
              "      <td>No</td>\n",
              "      <td>No</td>\n",
              "      <td>No</td>\n",
              "      <td>9.37</td>\n",
              "      <td>1.67</td>\n",
              "      <td>6.16</td>\n",
              "      <td>1.08</td>\n",
              "      <td>Low</td>\n",
              "      <td>Benign</td>\n",
              "    </tr>\n",
              "    <tr>\n",
              "      <th>1</th>\n",
              "      <td>2</td>\n",
              "      <td>29</td>\n",
              "      <td>Male</td>\n",
              "      <td>Germany</td>\n",
              "      <td>Hispanic</td>\n",
              "      <td>No</td>\n",
              "      <td>Yes</td>\n",
              "      <td>No</td>\n",
              "      <td>No</td>\n",
              "      <td>No</td>\n",
              "      <td>No</td>\n",
              "      <td>1.83</td>\n",
              "      <td>1.73</td>\n",
              "      <td>10.54</td>\n",
              "      <td>4.05</td>\n",
              "      <td>Low</td>\n",
              "      <td>Benign</td>\n",
              "    </tr>\n",
              "    <tr>\n",
              "      <th>2</th>\n",
              "      <td>3</td>\n",
              "      <td>86</td>\n",
              "      <td>Male</td>\n",
              "      <td>Nigeria</td>\n",
              "      <td>Caucasian</td>\n",
              "      <td>No</td>\n",
              "      <td>No</td>\n",
              "      <td>No</td>\n",
              "      <td>No</td>\n",
              "      <td>No</td>\n",
              "      <td>No</td>\n",
              "      <td>6.26</td>\n",
              "      <td>2.59</td>\n",
              "      <td>10.57</td>\n",
              "      <td>4.61</td>\n",
              "      <td>Low</td>\n",
              "      <td>Benign</td>\n",
              "    </tr>\n",
              "    <tr>\n",
              "      <th>3</th>\n",
              "      <td>4</td>\n",
              "      <td>75</td>\n",
              "      <td>Female</td>\n",
              "      <td>India</td>\n",
              "      <td>Asian</td>\n",
              "      <td>No</td>\n",
              "      <td>No</td>\n",
              "      <td>No</td>\n",
              "      <td>No</td>\n",
              "      <td>No</td>\n",
              "      <td>No</td>\n",
              "      <td>4.10</td>\n",
              "      <td>2.62</td>\n",
              "      <td>11.04</td>\n",
              "      <td>2.46</td>\n",
              "      <td>Medium</td>\n",
              "      <td>Benign</td>\n",
              "    </tr>\n",
              "    <tr>\n",
              "      <th>4</th>\n",
              "      <td>5</td>\n",
              "      <td>35</td>\n",
              "      <td>Female</td>\n",
              "      <td>Germany</td>\n",
              "      <td>African</td>\n",
              "      <td>Yes</td>\n",
              "      <td>Yes</td>\n",
              "      <td>No</td>\n",
              "      <td>No</td>\n",
              "      <td>No</td>\n",
              "      <td>No</td>\n",
              "      <td>9.10</td>\n",
              "      <td>2.11</td>\n",
              "      <td>10.71</td>\n",
              "      <td>2.11</td>\n",
              "      <td>High</td>\n",
              "      <td>Benign</td>\n",
              "    </tr>\n",
              "  </tbody>\n",
              "</table>\n",
              "</div>\n",
              "    <div class=\"colab-df-buttons\">\n",
              "\n",
              "  <div class=\"colab-df-container\">\n",
              "    <button class=\"colab-df-convert\" onclick=\"convertToInteractive('df-020a38c8-3f05-4209-9825-8365f0ba1f18')\"\n",
              "            title=\"Convert this dataframe to an interactive table.\"\n",
              "            style=\"display:none;\">\n",
              "\n",
              "  <svg xmlns=\"http://www.w3.org/2000/svg\" height=\"24px\" viewBox=\"0 -960 960 960\">\n",
              "    <path d=\"M120-120v-720h720v720H120Zm60-500h600v-160H180v160Zm220 220h160v-160H400v160Zm0 220h160v-160H400v160ZM180-400h160v-160H180v160Zm440 0h160v-160H620v160ZM180-180h160v-160H180v160Zm440 0h160v-160H620v160Z\"/>\n",
              "  </svg>\n",
              "    </button>\n",
              "\n",
              "  <style>\n",
              "    .colab-df-container {\n",
              "      display:flex;\n",
              "      gap: 12px;\n",
              "    }\n",
              "\n",
              "    .colab-df-convert {\n",
              "      background-color: #E8F0FE;\n",
              "      border: none;\n",
              "      border-radius: 50%;\n",
              "      cursor: pointer;\n",
              "      display: none;\n",
              "      fill: #1967D2;\n",
              "      height: 32px;\n",
              "      padding: 0 0 0 0;\n",
              "      width: 32px;\n",
              "    }\n",
              "\n",
              "    .colab-df-convert:hover {\n",
              "      background-color: #E2EBFA;\n",
              "      box-shadow: 0px 1px 2px rgba(60, 64, 67, 0.3), 0px 1px 3px 1px rgba(60, 64, 67, 0.15);\n",
              "      fill: #174EA6;\n",
              "    }\n",
              "\n",
              "    .colab-df-buttons div {\n",
              "      margin-bottom: 4px;\n",
              "    }\n",
              "\n",
              "    [theme=dark] .colab-df-convert {\n",
              "      background-color: #3B4455;\n",
              "      fill: #D2E3FC;\n",
              "    }\n",
              "\n",
              "    [theme=dark] .colab-df-convert:hover {\n",
              "      background-color: #434B5C;\n",
              "      box-shadow: 0px 1px 3px 1px rgba(0, 0, 0, 0.15);\n",
              "      filter: drop-shadow(0px 1px 2px rgba(0, 0, 0, 0.3));\n",
              "      fill: #FFFFFF;\n",
              "    }\n",
              "  </style>\n",
              "\n",
              "    <script>\n",
              "      const buttonEl =\n",
              "        document.querySelector('#df-020a38c8-3f05-4209-9825-8365f0ba1f18 button.colab-df-convert');\n",
              "      buttonEl.style.display =\n",
              "        google.colab.kernel.accessAllowed ? 'block' : 'none';\n",
              "\n",
              "      async function convertToInteractive(key) {\n",
              "        const element = document.querySelector('#df-020a38c8-3f05-4209-9825-8365f0ba1f18');\n",
              "        const dataTable =\n",
              "          await google.colab.kernel.invokeFunction('convertToInteractive',\n",
              "                                                    [key], {});\n",
              "        if (!dataTable) return;\n",
              "\n",
              "        const docLinkHtml = 'Like what you see? Visit the ' +\n",
              "          '<a target=\"_blank\" href=https://colab.research.google.com/notebooks/data_table.ipynb>data table notebook</a>'\n",
              "          + ' to learn more about interactive tables.';\n",
              "        element.innerHTML = '';\n",
              "        dataTable['output_type'] = 'display_data';\n",
              "        await google.colab.output.renderOutput(dataTable, element);\n",
              "        const docLink = document.createElement('div');\n",
              "        docLink.innerHTML = docLinkHtml;\n",
              "        element.appendChild(docLink);\n",
              "      }\n",
              "    </script>\n",
              "  </div>\n",
              "\n",
              "\n",
              "<div id=\"df-0420ce38-32c5-42ef-b7db-8bcf744268a0\">\n",
              "  <button class=\"colab-df-quickchart\" onclick=\"quickchart('df-0420ce38-32c5-42ef-b7db-8bcf744268a0')\"\n",
              "            title=\"Suggest charts\"\n",
              "            style=\"display:none;\">\n",
              "\n",
              "<svg xmlns=\"http://www.w3.org/2000/svg\" height=\"24px\"viewBox=\"0 0 24 24\"\n",
              "     width=\"24px\">\n",
              "    <g>\n",
              "        <path d=\"M19 3H5c-1.1 0-2 .9-2 2v14c0 1.1.9 2 2 2h14c1.1 0 2-.9 2-2V5c0-1.1-.9-2-2-2zM9 17H7v-7h2v7zm4 0h-2V7h2v10zm4 0h-2v-4h2v4z\"/>\n",
              "    </g>\n",
              "</svg>\n",
              "  </button>\n",
              "\n",
              "<style>\n",
              "  .colab-df-quickchart {\n",
              "      --bg-color: #E8F0FE;\n",
              "      --fill-color: #1967D2;\n",
              "      --hover-bg-color: #E2EBFA;\n",
              "      --hover-fill-color: #174EA6;\n",
              "      --disabled-fill-color: #AAA;\n",
              "      --disabled-bg-color: #DDD;\n",
              "  }\n",
              "\n",
              "  [theme=dark] .colab-df-quickchart {\n",
              "      --bg-color: #3B4455;\n",
              "      --fill-color: #D2E3FC;\n",
              "      --hover-bg-color: #434B5C;\n",
              "      --hover-fill-color: #FFFFFF;\n",
              "      --disabled-bg-color: #3B4455;\n",
              "      --disabled-fill-color: #666;\n",
              "  }\n",
              "\n",
              "  .colab-df-quickchart {\n",
              "    background-color: var(--bg-color);\n",
              "    border: none;\n",
              "    border-radius: 50%;\n",
              "    cursor: pointer;\n",
              "    display: none;\n",
              "    fill: var(--fill-color);\n",
              "    height: 32px;\n",
              "    padding: 0;\n",
              "    width: 32px;\n",
              "  }\n",
              "\n",
              "  .colab-df-quickchart:hover {\n",
              "    background-color: var(--hover-bg-color);\n",
              "    box-shadow: 0 1px 2px rgba(60, 64, 67, 0.3), 0 1px 3px 1px rgba(60, 64, 67, 0.15);\n",
              "    fill: var(--button-hover-fill-color);\n",
              "  }\n",
              "\n",
              "  .colab-df-quickchart-complete:disabled,\n",
              "  .colab-df-quickchart-complete:disabled:hover {\n",
              "    background-color: var(--disabled-bg-color);\n",
              "    fill: var(--disabled-fill-color);\n",
              "    box-shadow: none;\n",
              "  }\n",
              "\n",
              "  .colab-df-spinner {\n",
              "    border: 2px solid var(--fill-color);\n",
              "    border-color: transparent;\n",
              "    border-bottom-color: var(--fill-color);\n",
              "    animation:\n",
              "      spin 1s steps(1) infinite;\n",
              "  }\n",
              "\n",
              "  @keyframes spin {\n",
              "    0% {\n",
              "      border-color: transparent;\n",
              "      border-bottom-color: var(--fill-color);\n",
              "      border-left-color: var(--fill-color);\n",
              "    }\n",
              "    20% {\n",
              "      border-color: transparent;\n",
              "      border-left-color: var(--fill-color);\n",
              "      border-top-color: var(--fill-color);\n",
              "    }\n",
              "    30% {\n",
              "      border-color: transparent;\n",
              "      border-left-color: var(--fill-color);\n",
              "      border-top-color: var(--fill-color);\n",
              "      border-right-color: var(--fill-color);\n",
              "    }\n",
              "    40% {\n",
              "      border-color: transparent;\n",
              "      border-right-color: var(--fill-color);\n",
              "      border-top-color: var(--fill-color);\n",
              "    }\n",
              "    60% {\n",
              "      border-color: transparent;\n",
              "      border-right-color: var(--fill-color);\n",
              "    }\n",
              "    80% {\n",
              "      border-color: transparent;\n",
              "      border-right-color: var(--fill-color);\n",
              "      border-bottom-color: var(--fill-color);\n",
              "    }\n",
              "    90% {\n",
              "      border-color: transparent;\n",
              "      border-bottom-color: var(--fill-color);\n",
              "    }\n",
              "  }\n",
              "</style>\n",
              "\n",
              "  <script>\n",
              "    async function quickchart(key) {\n",
              "      const quickchartButtonEl =\n",
              "        document.querySelector('#' + key + ' button');\n",
              "      quickchartButtonEl.disabled = true;  // To prevent multiple clicks.\n",
              "      quickchartButtonEl.classList.add('colab-df-spinner');\n",
              "      try {\n",
              "        const charts = await google.colab.kernel.invokeFunction(\n",
              "            'suggestCharts', [key], {});\n",
              "      } catch (error) {\n",
              "        console.error('Error during call to suggestCharts:', error);\n",
              "      }\n",
              "      quickchartButtonEl.classList.remove('colab-df-spinner');\n",
              "      quickchartButtonEl.classList.add('colab-df-quickchart-complete');\n",
              "    }\n",
              "    (() => {\n",
              "      let quickchartButtonEl =\n",
              "        document.querySelector('#df-0420ce38-32c5-42ef-b7db-8bcf744268a0 button');\n",
              "      quickchartButtonEl.style.display =\n",
              "        google.colab.kernel.accessAllowed ? 'block' : 'none';\n",
              "    })();\n",
              "  </script>\n",
              "</div>\n",
              "\n",
              "    </div>\n",
              "  </div>\n"
            ],
            "application/vnd.google.colaboratory.intrinsic+json": {
              "type": "dataframe",
              "variable_name": "df"
            }
          },
          "metadata": {},
          "execution_count": 7
        }
      ]
    },
    {
      "cell_type": "code",
      "source": [
        "#@title Gender\n",
        "df.groupby('Gender').size().plot(kind='pie', autopct='%1.1f%%', colors=sns.color_palette('pastel'))\n",
        "plt.gca().spines[['top', 'right', 'bottom', 'left']].set_visible(False)\n",
        "plt.ylabel('') #Remove y-label\n",
        "plt.title('Gender Distribution')\n",
        "plt.show()"
      ],
      "metadata": {
        "trusted": true,
        "execution": {
          "iopub.status.busy": "2025-02-11T15:18:43.301786Z",
          "iopub.execute_input": "2025-02-11T15:18:43.302124Z",
          "iopub.status.idle": "2025-02-11T15:18:43.467335Z",
          "shell.execute_reply.started": "2025-02-11T15:18:43.302101Z",
          "shell.execute_reply": "2025-02-11T15:18:43.466304Z"
        },
        "id": "3qQuydIcm0iH",
        "colab": {
          "base_uri": "https://localhost:8080/",
          "height": 428
        },
        "outputId": "c6774366-1b84-45d7-8347-77d618b1516f",
        "cellView": "form"
      },
      "outputs": [
        {
          "output_type": "display_data",
          "data": {
            "text/plain": [
              "<Figure size 640x480 with 1 Axes>"
            ],
            "image/png": "[encoded data removed]"
          },
          "metadata": {}
        }
      ],
      "execution_count": null
    },
    {
      "cell_type": "code",
      "source": [
        "#@title Smoking vs Diagnosis\n",
        "plt.figure(figsize=(8, 6))\n",
        "sns.countplot(data=df, x='Smoking', hue='Diagnosis')\n",
        "plt.xlabel('Smoking')\n",
        "plt.ylabel('Diagnosis')\n",
        "plt.title('Smoking vs Diagnosis')\n",
        "plt.show()"
      ],
      "metadata": {
        "colab": {
          "base_uri": "https://localhost:8080/",
          "height": 564
        },
        "id": "ha2rcJglXwLt",
        "outputId": "6ef98504-a744-4817-941c-8ebc5fb5b8cd"
      },
      "execution_count": null,
      "outputs": [
        {
          "output_type": "display_data",
          "data": {
            "text/plain": [
              "<Figure size 800x600 with 1 Axes>"
            ],
            "image/png": "[encoded data removed]"
          },
          "metadata": {}
        }
      ]
    },
    {
      "cell_type": "code",
      "source": [
        "#@title Ethnicity\n",
        "df.groupby('Ethnicity').size().plot(kind='pie', autopct='%1.1f%%', colors=sns.color_palette('pastel'))\n",
        "plt.gca().spines[['top', 'right', 'bottom', 'left']].set_visible(False)\n",
        "plt.ylabel('') #Remove y-label\n",
        "plt.title('Ethnicity Distribution')\n",
        "plt.show()"
      ],
      "metadata": {
        "trusted": true,
        "execution": {
          "iopub.status.busy": "2025-02-11T15:18:43.686727Z",
          "iopub.execute_input": "2025-02-11T15:18:43.68707Z",
          "iopub.status.idle": "2025-02-11T15:18:43.857764Z",
          "shell.execute_reply.started": "2025-02-11T15:18:43.687043Z",
          "shell.execute_reply": "2025-02-11T15:18:43.856768Z"
        },
        "id": "7FMLtKonm0iI",
        "colab": {
          "base_uri": "https://localhost:8080/",
          "height": 428
        },
        "outputId": "7ef4565e-3c20-4c24-baea-aaba29f6cf0a",
        "cellView": "form"
      },
      "outputs": [
        {
          "output_type": "display_data",
          "data": {
            "text/plain": [
              "<Figure size 640x480 with 1 Axes>"
            ],
            "image/png": "[encoded data removed]"
          },
          "metadata": {}
        }
      ],
      "execution_count": null
    },
    {
      "cell_type": "code",
      "source": [
        "#@title Family_History\n",
        "df.groupby('Family_History').size().plot(kind='pie', autopct='%1.1f%%', colors=sns.color_palette('pastel'))\n",
        "plt.gca().spines[['top', 'right', 'bottom', 'left']].set_visible(False)\n",
        "plt.ylabel('') #Remove y-label\n",
        "plt.title('Family History Distribution')\n",
        "plt.show()"
      ],
      "metadata": {
        "trusted": true,
        "execution": {
          "iopub.status.busy": "2025-02-11T15:18:43.860908Z",
          "iopub.execute_input": "2025-02-11T15:18:43.861182Z",
          "iopub.status.idle": "2025-02-11T15:18:44.023581Z",
          "shell.execute_reply.started": "2025-02-11T15:18:43.861159Z",
          "shell.execute_reply": "2025-02-11T15:18:44.022753Z"
        },
        "id": "jZYiN9DNm0iI",
        "colab": {
          "base_uri": "https://localhost:8080/",
          "height": 428
        },
        "outputId": "5a5b18d4-6037-4f43-ac33-5acd902d04eb",
        "cellView": "form"
      },
      "outputs": [
        {
          "output_type": "display_data",
          "data": {
            "text/plain": [
              "<Figure size 640x480 with 1 Axes>"
            ],
            "image/png": "[encoded data removed]"
          },
          "metadata": {}
        }
      ],
      "execution_count": null
    },
    {
      "cell_type": "code",
      "source": [
        "#@title Thyroid Cancer Risk by Diagnosis\n",
        "plt.figure(figsize=(8, 6))\n",
        "sns.countplot(data=df, x='Diagnosis', hue='Thyroid_Cancer_Risk')\n",
        "plt.xlabel('Diagnosis')\n",
        "plt.ylabel('Count')\n",
        "plt.title('Thyroid Cancer Risk by Diagnosis')\n",
        "plt.show()"
      ],
      "metadata": {
        "trusted": true,
        "execution": {
          "iopub.status.busy": "2025-02-11T15:18:44.025269Z",
          "iopub.execute_input": "2025-02-11T15:18:44.025535Z",
          "iopub.status.idle": "2025-02-11T15:18:44.326641Z",
          "shell.execute_reply.started": "2025-02-11T15:18:44.025511Z",
          "shell.execute_reply": "2025-02-11T15:18:44.325755Z"
        },
        "id": "SVLdgkq7m0iI",
        "colab": {
          "base_uri": "https://localhost:8080/",
          "height": 564
        },
        "outputId": "d2441927-73cb-4011-974a-4fccf8171e4b",
        "cellView": "form"
      },
      "outputs": [
        {
          "output_type": "display_data",
          "data": {
            "text/plain": [
              "<Figure size 800x600 with 1 Axes>"
            ],
            "image/png": "[encoded data removed]"
          },
          "metadata": {}
        }
      ],
      "execution_count": null
    },
    {
      "cell_type": "code",
      "source": [
        "#@title Thyroid Cancer Risk by Country\n",
        "plt.figure(figsize=(12, 6))\n",
        "sns.countplot(data=df, x='Country', hue='Thyroid_Cancer_Risk', palette='Set2')\n",
        "plt.xlabel('Country')\n",
        "plt.ylabel('Count')\n",
        "plt.title('Thyroid Cancer Risk by Country')\n",
        "plt.show()\n"
      ],
      "metadata": {
        "trusted": true,
        "execution": {
          "iopub.status.busy": "2025-02-11T15:18:44.327529Z",
          "iopub.execute_input": "2025-02-11T15:18:44.327796Z",
          "iopub.status.idle": "2025-02-11T15:18:44.690124Z",
          "shell.execute_reply.started": "2025-02-11T15:18:44.327775Z",
          "shell.execute_reply": "2025-02-11T15:18:44.689219Z"
        },
        "id": "-vPsK2CXm0iJ"
      },
      "outputs": [],
      "execution_count": null
    },
    {
      "cell_type": "code",
      "source": [
        "#@title Thyroid Cancer Risk by Family_History\n",
        "plt.figure(figsize=(8, 6))\n",
        "sns.countplot(data=df, x='Family_History', hue='Thyroid_Cancer_Risk', palette='Set2')\n",
        "plt.xlabel('Family_History')\n",
        "plt.ylabel('Count')\n",
        "plt.title('Thyroid Cancer Risk by Family_History')\n",
        "plt.show()"
      ],
      "metadata": {
        "trusted": true,
        "execution": {
          "iopub.status.busy": "2025-02-11T15:18:44.691035Z",
          "iopub.execute_input": "2025-02-11T15:18:44.691289Z",
          "iopub.status.idle": "2025-02-11T15:18:44.969688Z",
          "shell.execute_reply.started": "2025-02-11T15:18:44.691259Z",
          "shell.execute_reply": "2025-02-11T15:18:44.968662Z"
        },
        "id": "scoiKuG3m0iJ",
        "colab": {
          "base_uri": "https://localhost:8080/",
          "height": 564
        },
        "outputId": "651e7aa4-aa69-44d5-eb7f-78ce20294e99",
        "cellView": "form"
      },
      "outputs": [
        {
          "output_type": "display_data",
          "data": {
            "text/plain": [
              "<Figure size 800x600 with 1 Axes>"
            ],
            "image/png": "[encoded data removed]"
          },
          "metadata": {}
        }
      ],
      "execution_count": null
    },
    {
      "cell_type": "markdown",
      "source": [
        "# Clean Data"
      ],
      "metadata": {
        "id": "gNoD1xXDm0iJ"
      }
    },
    {
      "cell_type": "code",
      "source": [
        "df.info()"
      ],
      "metadata": {
        "trusted": true,
        "execution": {
          "iopub.status.busy": "2025-02-11T15:18:44.970627Z",
          "iopub.execute_input": "2025-02-11T15:18:44.970919Z",
          "iopub.status.idle": "2025-02-11T15:18:45.096848Z",
          "shell.execute_reply.started": "2025-02-11T15:18:44.970867Z",
          "shell.execute_reply": "2025-02-11T15:18:45.095938Z"
        },
        "id": "8Lfx0cjcm0iJ",
        "colab": {
          "base_uri": "https://localhost:8080/"
        },
        "outputId": "cf025517-00d5-42c5-830b-89d7f5a7e85e"
      },
      "outputs": [
        {
          "output_type": "stream",
          "name": "stdout",
          "text": [
            "<class 'pandas.core.frame.DataFrame'>\n",
            "RangeIndex: 212691 entries, 0 to 212690\n",
            "Data columns (total 17 columns):\n",
            " #   Column               Non-Null Count   Dtype  \n",
            "---  ------               --------------   -----  \n",
            " 0   Patient_ID           212691 non-null  int64  \n",
            " 1   Age                  212691 non-null  int64  \n",
            " 2   Gender               212691 non-null  object \n",
            " 3   Country              212691 non-null  object \n",
            " 4   Ethnicity            212691 non-null  object \n",
            " 5   Family_History       212691 non-null  object \n",
            " 6   Radiation_Exposure   212691 non-null  object \n",
            " 7   Iodine_Deficiency    212691 non-null  object \n",
            " 8   Smoking              212691 non-null  object \n",
            " 9   Obesity              212691 non-null  object \n",
            " 10  Diabetes             212691 non-null  object \n",
            " 11  TSH_Level            212691 non-null  float64\n",
            " 12  T3_Level             212691 non-null  float64\n",
            " 13  T4_Level             212691 non-null  float64\n",
            " 14  Nodule_Size          212691 non-null  float64\n",
            " 15  Thyroid_Cancer_Risk  212691 non-null  object \n",
            " 16  Diagnosis            212691 non-null  object \n",
            "dtypes: float64(4), int64(2), object(11)\n",
            "memory usage: 27.6+ MB\n"
          ]
        }
      ],
      "execution_count": null
    },
    {
      "cell_type": "code",
      "source": [
        "df.describe()"
      ],
      "metadata": {
        "trusted": true,
        "execution": {
          "iopub.status.busy": "2025-02-11T15:18:45.098Z",
          "iopub.execute_input": "2025-02-11T15:18:45.098349Z",
          "iopub.status.idle": "2025-02-11T15:18:45.171121Z",
          "shell.execute_reply.started": "2025-02-11T15:18:45.098314Z",
          "shell.execute_reply": "2025-02-11T15:18:45.170205Z"
        },
        "id": "jQ-Y8NQkm0iJ",
        "colab": {
          "base_uri": "https://localhost:8080/",
          "height": 300
        },
        "outputId": "2cbaa95f-c700-419a-cb58-d974b7a0f51b"
      },
      "outputs": [
        {
          "output_type": "execute_result",
          "data": {
            "text/plain": [
              "         Patient_ID            Age      TSH_Level       T3_Level  \\\n",
              "count  212691.00000  212691.000000  212691.000000  212691.000000   \n",
              "mean   106346.00000      51.918497       5.045102       2.001727   \n",
              "std     61398.74739      21.632815       2.860264       0.866248   \n",
              "min         1.00000      15.000000       0.100000       0.500000   \n",
              "25%     53173.50000      33.000000       2.570000       1.250000   \n",
              "50%    106346.00000      52.000000       5.040000       2.000000   \n",
              "75%    159518.50000      71.000000       7.520000       2.750000   \n",
              "max    212691.00000      89.000000      10.000000       3.500000   \n",
              "\n",
              "            T4_Level    Nodule_Size  \n",
              "count  212691.000000  212691.000000  \n",
              "mean        8.246204       2.503403  \n",
              "std         2.164188       1.444631  \n",
              "min         4.500000       0.000000  \n",
              "25%         6.370000       1.250000  \n",
              "50%         8.240000       2.510000  \n",
              "75%        10.120000       3.760000  \n",
              "max        12.000000       5.000000  "
            ],
            "text/html": [
              "\n",
              "  <div id=\"df-bddbc463-2b73-4aea-9a17-aed71fe43aaf\" class=\"colab-df-container\">\n",
              "    <div>\n",
              "<style scoped>\n",
              "    .dataframe tbody tr th:only-of-type {\n",
              "        vertical-align: middle;\n",
              "    }\n",
              "\n",
              "    .dataframe tbody tr th {\n",
              "        vertical-align: top;\n",
              "    }\n",
              "\n",
              "    .dataframe thead th {\n",
              "        text-align: right;\n",
              "    }\n",
              "</style>\n",
              "<table border=\"1\" class=\"dataframe\">\n",
              "  <thead>\n",
              "    <tr style=\"text-align: right;\">\n",
              "      <th></th>\n",
              "      <th>Patient_ID</th>\n",
              "      <th>Age</th>\n",
              "      <th>TSH_Level</th>\n",
              "      <th>T3_Level</th>\n",
              "      <th>T4_Level</th>\n",
              "      <th>Nodule_Size</th>\n",
              "    </tr>\n",
              "  </thead>\n",
              "  <tbody>\n",
              "    <tr>\n",
              "      <th>count</th>\n",
              "      <td>212691.00000</td>\n",
              "      <td>212691.000000</td>\n",
              "      <td>212691.000000</td>\n",
              "      <td>212691.000000</td>\n",
              "      <td>212691.000000</td>\n",
              "      <td>212691.000000</td>\n",
              "    </tr>\n",
              "    <tr>\n",
              "      <th>mean</th>\n",
              "      <td>106346.00000</td>\n",
              "      <td>51.918497</td>\n",
              "      <td>5.045102</td>\n",
              "      <td>2.001727</td>\n",
              "      <td>8.246204</td>\n",
              "      <td>2.503403</td>\n",
              "    </tr>\n",
              "    <tr>\n",
              "      <th>std</th>\n",
              "      <td>61398.74739</td>\n",
              "      <td>21.632815</td>\n",
              "      <td>2.860264</td>\n",
              "      <td>0.866248</td>\n",
              "      <td>2.164188</td>\n",
              "      <td>1.444631</td>\n",
              "    </tr>\n",
              "    <tr>\n",
              "      <th>min</th>\n",
              "      <td>1.00000</td>\n",
              "      <td>15.000000</td>\n",
              "      <td>0.100000</td>\n",
              "      <td>0.500000</td>\n",
              "      <td>4.500000</td>\n",
              "      <td>0.000000</td>\n",
              "    </tr>\n",
              "    <tr>\n",
              "      <th>25%</th>\n",
              "      <td>53173.50000</td>\n",
              "      <td>33.000000</td>\n",
              "      <td>2.570000</td>\n",
              "      <td>1.250000</td>\n",
              "      <td>6.370000</td>\n",
              "      <td>1.250000</td>\n",
              "    </tr>\n",
              "    <tr>\n",
              "      <th>50%</th>\n",
              "      <td>106346.00000</td>\n",
              "      <td>52.000000</td>\n",
              "      <td>5.040000</td>\n",
              "      <td>2.000000</td>\n",
              "      <td>8.240000</td>\n",
              "      <td>2.510000</td>\n",
              "    </tr>\n",
              "    <tr>\n",
              "      <th>75%</th>\n",
              "      <td>159518.50000</td>\n",
              "      <td>71.000000</td>\n",
              "      <td>7.520000</td>\n",
              "      <td>2.750000</td>\n",
              "      <td>10.120000</td>\n",
              "      <td>3.760000</td>\n",
              "    </tr>\n",
              "    <tr>\n",
              "      <th>max</th>\n",
              "      <td>212691.00000</td>\n",
              "      <td>89.000000</td>\n",
              "      <td>10.000000</td>\n",
              "      <td>3.500000</td>\n",
              "      <td>12.000000</td>\n",
              "      <td>5.000000</td>\n",
              "    </tr>\n",
              "  </tbody>\n",
              "</table>\n",
              "</div>\n",
              "    <div class=\"colab-df-buttons\">\n",
              "\n",
              "  <div class=\"colab-df-container\">\n",
              "    <button class=\"colab-df-convert\" onclick=\"convertToInteractive('df-bddbc463-2b73-4aea-9a17-aed71fe43aaf')\"\n",
              "            title=\"Convert this dataframe to an interactive table.\"\n",
              "            style=\"display:none;\">\n",
              "\n",
              "  <svg xmlns=\"http://www.w3.org/2000/svg\" height=\"24px\" viewBox=\"0 -960 960 960\">\n",
              "    <path d=\"M120-120v-720h720v720H120Zm60-500h600v-160H180v160Zm220 220h160v-160H400v160Zm0 220h160v-160H400v160ZM180-400h160v-160H180v160Zm440 0h160v-160H620v160ZM180-180h160v-160H180v160Zm440 0h160v-160H620v160Z\"/>\n",
              "  </svg>\n",
              "    </button>\n",
              "\n",
              "  <style>\n",
              "    .colab-df-container {\n",
              "      display:flex;\n",
              "      gap: 12px;\n",
              "    }\n",
              "\n",
              "    .colab-df-convert {\n",
              "      background-color: #E8F0FE;\n",
              "      border: none;\n",
              "      border-radius: 50%;\n",
              "      cursor: pointer;\n",
              "      display: none;\n",
              "      fill: #1967D2;\n",
              "      height: 32px;\n",
              "      padding: 0 0 0 0;\n",
              "      width: 32px;\n",
              "    }\n",
              "\n",
              "    .colab-df-convert:hover {\n",
              "      background-color: #E2EBFA;\n",
              "      box-shadow: 0px 1px 2px rgba(60, 64, 67, 0.3), 0px 1px 3px 1px rgba(60, 64, 67, 0.15);\n",
              "      fill: #174EA6;\n",
              "    }\n",
              "\n",
              "    .colab-df-buttons div {\n",
              "      margin-bottom: 4px;\n",
              "    }\n",
              "\n",
              "    [theme=dark] .colab-df-convert {\n",
              "      background-color: #3B4455;\n",
              "      fill: #D2E3FC;\n",
              "    }\n",
              "\n",
              "    [theme=dark] .colab-df-convert:hover {\n",
              "      background-color: #434B5C;\n",
              "      box-shadow: 0px 1px 3px 1px rgba(0, 0, 0, 0.15);\n",
              "      filter: drop-shadow(0px 1px 2px rgba(0, 0, 0, 0.3));\n",
              "      fill: #FFFFFF;\n",
              "    }\n",
              "  </style>\n",
              "\n",
              "    <script>\n",
              "      const buttonEl =\n",
              "        document.querySelector('#df-bddbc463-2b73-4aea-9a17-aed71fe43aaf button.colab-df-convert');\n",
              "      buttonEl.style.display =\n",
              "        google.colab.kernel.accessAllowed ? 'block' : 'none';\n",
              "\n",
              "      async function convertToInteractive(key) {\n",
              "        const element = document.querySelector('#df-bddbc463-2b73-4aea-9a17-aed71fe43aaf');\n",
              "        const dataTable =\n",
              "          await google.colab.kernel.invokeFunction('convertToInteractive',\n",
              "                                                    [key], {});\n",
              "        if (!dataTable) return;\n",
              "\n",
              "        const docLinkHtml = 'Like what you see? Visit the ' +\n",
              "          '<a target=\"_blank\" href=https://colab.research.google.com/notebooks/data_table.ipynb>data table notebook</a>'\n",
              "          + ' to learn more about interactive tables.';\n",
              "        element.innerHTML = '';\n",
              "        dataTable['output_type'] = 'display_data';\n",
              "        await google.colab.output.renderOutput(dataTable, element);\n",
              "        const docLink = document.createElement('div');\n",
              "        docLink.innerHTML = docLinkHtml;\n",
              "        element.appendChild(docLink);\n",
              "      }\n",
              "    </script>\n",
              "  </div>\n",
              "\n",
              "\n",
              "<div id=\"df-4076fcd7-7e26-48cf-8420-ed035c58bed3\">\n",
              "  <button class=\"colab-df-quickchart\" onclick=\"quickchart('df-4076fcd7-7e26-48cf-8420-ed035c58bed3')\"\n",
              "            title=\"Suggest charts\"\n",
              "            style=\"display:none;\">\n",
              "\n",
              "<svg xmlns=\"http://www.w3.org/2000/svg\" height=\"24px\"viewBox=\"0 0 24 24\"\n",
              "     width=\"24px\">\n",
              "    <g>\n",
              "        <path d=\"M19 3H5c-1.1 0-2 .9-2 2v14c0 1.1.9 2 2 2h14c1.1 0 2-.9 2-2V5c0-1.1-.9-2-2-2zM9 17H7v-7h2v7zm4 0h-2V7h2v10zm4 0h-2v-4h2v4z\"/>\n",
              "    </g>\n",
              "</svg>\n",
              "  </button>\n",
              "\n",
              "<style>\n",
              "  .colab-df-quickchart {\n",
              "      --bg-color: #E8F0FE;\n",
              "      --fill-color: #1967D2;\n",
              "      --hover-bg-color: #E2EBFA;\n",
              "      --hover-fill-color: #174EA6;\n",
              "      --disabled-fill-color: #AAA;\n",
              "      --disabled-bg-color: #DDD;\n",
              "  }\n",
              "\n",
              "  [theme=dark] .colab-df-quickchart {\n",
              "      --bg-color: #3B4455;\n",
              "      --fill-color: #D2E3FC;\n",
              "      --hover-bg-color: #434B5C;\n",
              "      --hover-fill-color: #FFFFFF;\n",
              "      --disabled-bg-color: #3B4455;\n",
              "      --disabled-fill-color: #666;\n",
              "  }\n",
              "\n",
              "  .colab-df-quickchart {\n",
              "    background-color: var(--bg-color);\n",
              "    border: none;\n",
              "    border-radius: 50%;\n",
              "    cursor: pointer;\n",
              "    display: none;\n",
              "    fill: var(--fill-color);\n",
              "    height: 32px;\n",
              "    padding: 0;\n",
              "    width: 32px;\n",
              "  }\n",
              "\n",
              "  .colab-df-quickchart:hover {\n",
              "    background-color: var(--hover-bg-color);\n",
              "    box-shadow: 0 1px 2px rgba(60, 64, 67, 0.3), 0 1px 3px 1px rgba(60, 64, 67, 0.15);\n",
              "    fill: var(--button-hover-fill-color);\n",
              "  }\n",
              "\n",
              "  .colab-df-quickchart-complete:disabled,\n",
              "  .colab-df-quickchart-complete:disabled:hover {\n",
              "    background-color: var(--disabled-bg-color);\n",
              "    fill: var(--disabled-fill-color);\n",
              "    box-shadow: none;\n",
              "  }\n",
              "\n",
              "  .colab-df-spinner {\n",
              "    border: 2px solid var(--fill-color);\n",
              "    border-color: transparent;\n",
              "    border-bottom-color: var(--fill-color);\n",
              "    animation:\n",
              "      spin 1s steps(1) infinite;\n",
              "  }\n",
              "\n",
              "  @keyframes spin {\n",
              "    0% {\n",
              "      border-color: transparent;\n",
              "      border-bottom-color: var(--fill-color);\n",
              "      border-left-color: var(--fill-color);\n",
              "    }\n",
              "    20% {\n",
              "      border-color: transparent;\n",
              "      border-left-color: var(--fill-color);\n",
              "      border-top-color: var(--fill-color);\n",
              "    }\n",
              "    30% {\n",
              "      border-color: transparent;\n",
              "      border-left-color: var(--fill-color);\n",
              "      border-top-color: var(--fill-color);\n",
              "      border-right-color: var(--fill-color);\n",
              "    }\n",
              "    40% {\n",
              "      border-color: transparent;\n",
              "      border-right-color: var(--fill-color);\n",
              "      border-top-color: var(--fill-color);\n",
              "    }\n",
              "    60% {\n",
              "      border-color: transparent;\n",
              "      border-right-color: var(--fill-color);\n",
              "    }\n",
              "    80% {\n",
              "      border-color: transparent;\n",
              "      border-right-color: var(--fill-color);\n",
              "      border-bottom-color: var(--fill-color);\n",
              "    }\n",
              "    90% {\n",
              "      border-color: transparent;\n",
              "      border-bottom-color: var(--fill-color);\n",
              "    }\n",
              "  }\n",
              "</style>\n",
              "\n",
              "  <script>\n",
              "    async function quickchart(key) {\n",
              "      const quickchartButtonEl =\n",
              "        document.querySelector('#' + key + ' button');\n",
              "      quickchartButtonEl.disabled = true;  // To prevent multiple clicks.\n",
              "      quickchartButtonEl.classList.add('colab-df-spinner');\n",
              "      try {\n",
              "        const charts = await google.colab.kernel.invokeFunction(\n",
              "            'suggestCharts', [key], {});\n",
              "      } catch (error) {\n",
              "        console.error('Error during call to suggestCharts:', error);\n",
              "      }\n",
              "      quickchartButtonEl.classList.remove('colab-df-spinner');\n",
              "      quickchartButtonEl.classList.add('colab-df-quickchart-complete');\n",
              "    }\n",
              "    (() => {\n",
              "      let quickchartButtonEl =\n",
              "        document.querySelector('#df-4076fcd7-7e26-48cf-8420-ed035c58bed3 button');\n",
              "      quickchartButtonEl.style.display =\n",
              "        google.colab.kernel.accessAllowed ? 'block' : 'none';\n",
              "    })();\n",
              "  </script>\n",
              "</div>\n",
              "\n",
              "    </div>\n",
              "  </div>\n"
            ],
            "application/vnd.google.colaboratory.intrinsic+json": {
              "type": "dataframe",
              "summary": "{\n  \"name\": \"df\",\n  \"rows\": 8,\n  \"fields\": [\n    {\n      \"column\": \"Patient_ID\",\n      \"properties\": {\n        \"dtype\": \"number\",\n        \"std\": 76654.56065238266,\n        \"min\": 1.0,\n        \"max\": 212691.0,\n        \"num_unique_values\": 6,\n        \"samples\": [\n          212691.0,\n          106346.0,\n          159518.5\n        ],\n        \"semantic_type\": \"\",\n        \"description\": \"\"\n      }\n    },\n    {\n      \"column\": \"Age\",\n      \"properties\": {\n        \"dtype\": \"number\",\n        \"std\": 75180.7813510071,\n        \"min\": 15.0,\n        \"max\": 212691.0,\n        \"num_unique_values\": 8,\n        \"samples\": [\n          51.918496786417855,\n          52.0,\n          212691.0\n        ],\n        \"semantic_type\": \"\",\n        \"description\": \"\"\n      }\n    },\n    {\n      \"column\": \"TSH_Level\",\n      \"properties\": {\n        \"dtype\": \"number\",\n        \"std\": 75195.95067203298,\n        \"min\": 0.1,\n        \"max\": 212691.0,\n        \"num_unique_values\": 8,\n        \"samples\": [\n          5.045102002435458,\n          5.04,\n          212691.0\n        ],\n        \"semantic_type\": \"\",\n        \"description\": \"\"\n      }\n    },\n    {\n      \"column\": \"T3_Level\",\n      \"properties\": {\n        \"dtype\": \"number\",\n        \"std\": 75196.97427419711,\n        \"min\": 0.5,\n        \"max\": 212691.0,\n        \"num_unique_values\": 8,\n        \"samples\": [\n          2.0017266362939665,\n          2.0,\n          212691.0\n        ],\n        \"semantic_type\": \"\",\n        \"description\": \"\"\n      }\n    },\n    {\n      \"column\": \"T4_Level\",\n      \"properties\": {\n        \"dtype\": \"number\",\n        \"std\": 75195.01602849414,\n        \"min\": 2.164188476007154,\n        \"max\": 212691.0,\n        \"num_unique_values\": 8,\n        \"samples\": [\n          8.246203976660977,\n          8.24,\n          212691.0\n        ],\n        \"semantic_type\": \"\",\n        \"description\": \"\"\n      }\n    },\n    {\n      \"column\": \"Nodule_Size\",\n      \"properties\": {\n        \"dtype\": \"number\",\n        \"std\": 75196.7924531321,\n        \"min\": 0.0,\n        \"max\": 212691.0,\n        \"num_unique_values\": 8,\n        \"samples\": [\n          2.503403246963906,\n          2.51,\n          212691.0\n        ],\n        \"semantic_type\": \"\",\n        \"description\": \"\"\n      }\n    }\n  ]\n}"
            }
          },
          "metadata": {},
          "execution_count": 13
        }
      ],
      "execution_count": null
    },
    {
      "cell_type": "code",
      "source": [
        "df.isnull().sum()"
      ],
      "metadata": {
        "trusted": true,
        "execution": {
          "iopub.status.busy": "2025-02-11T15:18:45.172094Z",
          "iopub.execute_input": "2025-02-11T15:18:45.172433Z",
          "iopub.status.idle": "2025-02-11T15:18:45.29722Z",
          "shell.execute_reply.started": "2025-02-11T15:18:45.172401Z",
          "shell.execute_reply": "2025-02-11T15:18:45.29629Z"
        },
        "id": "L63eUpx9m0iJ",
        "colab": {
          "base_uri": "https://localhost:8080/",
          "height": 617
        },
        "outputId": "8e016b1a-7445-4ead-c5d6-9d065b6e5b15"
      },
      "outputs": [
        {
          "output_type": "execute_result",
          "data": {
            "text/plain": [
              "Patient_ID             0\n",
              "Age                    0\n",
              "Gender                 0\n",
              "Country                0\n",
              "Ethnicity              0\n",
              "Family_History         0\n",
              "Radiation_Exposure     0\n",
              "Iodine_Deficiency      0\n",
              "Smoking                0\n",
              "Obesity                0\n",
              "Diabetes               0\n",
              "TSH_Level              0\n",
              "T3_Level               0\n",
              "T4_Level               0\n",
              "Nodule_Size            0\n",
              "Thyroid_Cancer_Risk    0\n",
              "Diagnosis              0\n",
              "dtype: int64"
            ],
            "text/html": [
              "<div>\n",
              "<style scoped>\n",
              "    .dataframe tbody tr th:only-of-type {\n",
              "        vertical-align: middle;\n",
              "    }\n",
              "\n",
              "    .dataframe tbody tr th {\n",
              "        vertical-align: top;\n",
              "    }\n",
              "\n",
              "    .dataframe thead th {\n",
              "        text-align: right;\n",
              "    }\n",
              "</style>\n",
              "<table border=\"1\" class=\"dataframe\">\n",
              "  <thead>\n",
              "    <tr style=\"text-align: right;\">\n",
              "      <th></th>\n",
              "      <th>0</th>\n",
              "    </tr>\n",
              "  </thead>\n",
              "  <tbody>\n",
              "    <tr>\n",
              "      <th>Patient_ID</th>\n",
              "      <td>0</td>\n",
              "    </tr>\n",
              "    <tr>\n",
              "      <th>Age</th>\n",
              "      <td>0</td>\n",
              "    </tr>\n",
              "    <tr>\n",
              "      <th>Gender</th>\n",
              "      <td>0</td>\n",
              "    </tr>\n",
              "    <tr>\n",
              "      <th>Country</th>\n",
              "      <td>0</td>\n",
              "    </tr>\n",
              "    <tr>\n",
              "      <th>Ethnicity</th>\n",
              "      <td>0</td>\n",
              "    </tr>\n",
              "    <tr>\n",
              "      <th>Family_History</th>\n",
              "      <td>0</td>\n",
              "    </tr>\n",
              "    <tr>\n",
              "      <th>Radiation_Exposure</th>\n",
              "      <td>0</td>\n",
              "    </tr>\n",
              "    <tr>\n",
              "      <th>Iodine_Deficiency</th>\n",
              "      <td>0</td>\n",
              "    </tr>\n",
              "    <tr>\n",
              "      <th>Smoking</th>\n",
              "      <td>0</td>\n",
              "    </tr>\n",
              "    <tr>\n",
              "      <th>Obesity</th>\n",
              "      <td>0</td>\n",
              "    </tr>\n",
              "    <tr>\n",
              "      <th>Diabetes</th>\n",
              "      <td>0</td>\n",
              "    </tr>\n",
              "    <tr>\n",
              "      <th>TSH_Level</th>\n",
              "      <td>0</td>\n",
              "    </tr>\n",
              "    <tr>\n",
              "      <th>T3_Level</th>\n",
              "      <td>0</td>\n",
              "    </tr>\n",
              "    <tr>\n",
              "      <th>T4_Level</th>\n",
              "      <td>0</td>\n",
              "    </tr>\n",
              "    <tr>\n",
              "      <th>Nodule_Size</th>\n",
              "      <td>0</td>\n",
              "    </tr>\n",
              "    <tr>\n",
              "      <th>Thyroid_Cancer_Risk</th>\n",
              "      <td>0</td>\n",
              "    </tr>\n",
              "    <tr>\n",
              "      <th>Diagnosis</th>\n",
              "      <td>0</td>\n",
              "    </tr>\n",
              "  </tbody>\n",
              "</table>\n",
              "</div><br><label><b>dtype:</b> int64</label>"
            ]
          },
          "metadata": {},
          "execution_count": 14
        }
      ],
      "execution_count": null
    },
    {
      "cell_type": "code",
      "source": [
        "df.duplicated().sum()"
      ],
      "metadata": {
        "trusted": true,
        "execution": {
          "iopub.status.busy": "2025-02-11T15:18:45.298059Z",
          "iopub.execute_input": "2025-02-11T15:18:45.298293Z",
          "iopub.status.idle": "2025-02-11T15:18:45.469449Z",
          "shell.execute_reply.started": "2025-02-11T15:18:45.298273Z",
          "shell.execute_reply": "2025-02-11T15:18:45.468616Z"
        },
        "id": "q4MebrTkm0iJ",
        "colab": {
          "base_uri": "https://localhost:8080/"
        },
        "outputId": "15fe3b02-573a-4053-da20-7b63001be292"
      },
      "outputs": [
        {
          "output_type": "execute_result",
          "data": {
            "text/plain": [
              "0"
            ]
          },
          "metadata": {},
          "execution_count": 15
        }
      ],
      "execution_count": null
    },
    {
      "cell_type": "code",
      "source": [
        "# the id is a unique value\n",
        "df.drop('Patient_ID',axis=1,inplace=True)"
      ],
      "metadata": {
        "trusted": true,
        "execution": {
          "iopub.status.busy": "2025-02-11T15:18:45.470303Z",
          "iopub.execute_input": "2025-02-11T15:18:45.470556Z",
          "iopub.status.idle": "2025-02-11T15:18:45.493832Z",
          "shell.execute_reply.started": "2025-02-11T15:18:45.47053Z",
          "shell.execute_reply": "2025-02-11T15:18:45.493066Z"
        },
        "id": "kSF7n6e1m0iJ"
      },
      "outputs": [],
      "execution_count": null
    },
    {
      "cell_type": "code",
      "source": [
        "df['Gender'] = df['Gender'].apply(lambda x: 1 if x=='Female' else 2)"
      ],
      "metadata": {
        "trusted": true,
        "execution": {
          "iopub.status.busy": "2025-02-11T15:18:45.494844Z",
          "iopub.execute_input": "2025-02-11T15:18:45.495194Z",
          "iopub.status.idle": "2025-02-11T15:18:45.579757Z",
          "shell.execute_reply.started": "2025-02-11T15:18:45.495169Z",
          "shell.execute_reply": "2025-02-11T15:18:45.578912Z"
        },
        "id": "JlfUrLxWm0iJ"
      },
      "outputs": [],
      "execution_count": null
    },
    {
      "cell_type": "code",
      "source": [
        "df = df.map(lambda x : {\"Yes\":1,\"No\":0}.get(x,x))"
      ],
      "metadata": {
        "trusted": true,
        "execution": {
          "iopub.status.busy": "2025-02-11T15:18:45.608351Z",
          "iopub.execute_input": "2025-02-11T15:18:45.608724Z",
          "iopub.status.idle": "2025-02-11T15:18:47.144329Z",
          "shell.execute_reply.started": "2025-02-11T15:18:45.608686Z",
          "shell.execute_reply": "2025-02-11T15:18:47.143498Z"
        },
        "id": "JzRTD5YUm0iK"
      },
      "outputs": [],
      "execution_count": null
    },
    {
      "cell_type": "code",
      "source": [
        "temp = df.groupby('Country').groups.keys()\n",
        "data = {}\n",
        "for i, key in enumerate(temp): # Use enumerate to get both index and key\n",
        "  data[key] = i + 1\n",
        "\n",
        "df['Country'] = df['Country'].apply(lambda x: data[x])"
      ],
      "metadata": {
        "trusted": true,
        "execution": {
          "iopub.status.busy": "2025-02-11T15:18:47.16276Z",
          "iopub.execute_input": "2025-02-11T15:18:47.163136Z",
          "iopub.status.idle": "2025-02-11T15:18:47.273747Z",
          "shell.execute_reply.started": "2025-02-11T15:18:47.163101Z",
          "shell.execute_reply": "2025-02-11T15:18:47.27297Z"
        },
        "id": "Sy-ecMM_m0iK"
      },
      "outputs": [],
      "execution_count": null
    },
    {
      "cell_type": "code",
      "source": [
        "df['Ethnicity'].value_counts()\n",
        "temp = df.groupby('Ethnicity').groups.keys()\n",
        "data = {}\n",
        "for i, key in enumerate(temp): # Use enumerate to get both index and key\n",
        "  data[key] = i + 1\n",
        "\n",
        "df['Ethnicity']=df['Ethnicity'].apply(lambda x: data[x])\n"
      ],
      "metadata": {
        "trusted": true,
        "execution": {
          "iopub.status.busy": "2025-02-11T15:18:47.274619Z",
          "iopub.execute_input": "2025-02-11T15:18:47.274859Z",
          "iopub.status.idle": "2025-02-11T15:18:47.391096Z",
          "shell.execute_reply.started": "2025-02-11T15:18:47.274838Z",
          "shell.execute_reply": "2025-02-11T15:18:47.39024Z"
        },
        "id": "VHxOHzSBm0iK"
      },
      "outputs": [],
      "execution_count": null
    },
    {
      "cell_type": "code",
      "source": [
        "def changeThyroid_Cancer_Risk(a):\n",
        "  return {\n",
        "      'Low':1,\n",
        "      'Medium':2,\n",
        "      'High':3\n",
        "  }.get(a,a)\n",
        "df['Thyroid_Cancer_Risk']=df['Thyroid_Cancer_Risk'].apply(changeThyroid_Cancer_Risk)"
      ],
      "metadata": {
        "trusted": true,
        "execution": {
          "iopub.status.busy": "2025-02-11T15:18:47.395779Z",
          "iopub.execute_input": "2025-02-11T15:18:47.396095Z",
          "iopub.status.idle": "2025-02-11T15:18:47.512845Z",
          "shell.execute_reply.started": "2025-02-11T15:18:47.396068Z",
          "shell.execute_reply": "2025-02-11T15:18:47.51179Z"
        },
        "id": "kUSeUBGUm0iK"
      },
      "outputs": [],
      "execution_count": null
    },
    {
      "cell_type": "code",
      "source": [
        "#**create ndf to help with Split the data into training and testing sets**\n",
        "ndf = df.copy()\n",
        "ndf.drop('Diagnosis',axis=1,inplace=True)"
      ],
      "metadata": {
        "trusted": true,
        "execution": {
          "iopub.status.busy": "2025-02-11T15:18:47.514934Z",
          "iopub.execute_input": "2025-02-11T15:18:47.51523Z",
          "iopub.status.idle": "2025-02-11T15:18:47.550138Z",
          "shell.execute_reply.started": "2025-02-11T15:18:47.515205Z",
          "shell.execute_reply": "2025-02-11T15:18:47.549107Z"
        },
        "id": "_NodIZpQm0iK"
      },
      "outputs": [],
      "execution_count": null
    },
    {
      "cell_type": "markdown",
      "source": [
        "#**Model**"
      ],
      "metadata": {
        "id": "SqsdM-nM30bX"
      }
    },
    {
      "cell_type": "code",
      "source": [
        "#@title  Split the data into training and testing sets\n",
        "X_train, X_test, y_train, y_test = train_test_split(ndf,df['Diagnosis'], test_size=0.2, random_state=42)\n",
        "\n",
        "print(\"Shape of X_train:\", X_train.shape)\n",
        "print(\"Shape of X_test:\", X_test.shape)\n",
        "print(\"Shape of y_train:\", y_train.shape)\n",
        "print(\"Shape of y_test:\", y_test.shape)\n"
      ],
      "metadata": {
        "trusted": true,
        "execution": {
          "iopub.status.busy": "2025-02-11T15:18:47.551147Z",
          "iopub.execute_input": "2025-02-11T15:18:47.551438Z",
          "iopub.status.idle": "2025-02-11T15:18:47.592015Z",
          "shell.execute_reply.started": "2025-02-11T15:18:47.551405Z",
          "shell.execute_reply": "2025-02-11T15:18:47.591177Z"
        },
        "id": "GF1aMLNhm0iK",
        "colab": {
          "base_uri": "https://localhost:8080/"
        },
        "outputId": "ea72aea9-7dd9-40b6-92bb-c2701b91421f",
        "cellView": "form"
      },
      "outputs": [
        {
          "output_type": "stream",
          "name": "stdout",
          "text": [
            "Shape of X_train: (170152, 15)\n",
            "Shape of X_test: (42539, 15)\n",
            "Shape of y_train: (170152,)\n",
            "Shape of y_test: (42539,)\n"
          ]
        }
      ],
      "execution_count": null
    },
    {
      "cell_type": "code",
      "source": [
        "#KNN\n",
        "model = KNeighborsClassifier(n_neighbors = 7)\n",
        "model.fit(X_train,y_train)\n",
        "y_pre = model.predict(X_test)\n",
        "evaluate_model('KNN',y_test, y_pre)\n",
        "print(classification_report(y_test, y_pre))"
      ],
      "metadata": {
        "trusted": true,
        "execution": {
          "iopub.status.busy": "2025-02-11T15:18:47.593071Z",
          "iopub.execute_input": "2025-02-11T15:18:47.59342Z",
          "iopub.status.idle": "2025-02-11T15:18:48.465772Z",
          "shell.execute_reply.started": "2025-02-11T15:18:47.593386Z",
          "shell.execute_reply": "2025-02-11T15:18:48.464711Z"
        },
        "id": "Sd0Ef3prm0iK",
        "colab": {
          "base_uri": "https://localhost:8080/"
        },
        "outputId": "caa740d0-173e-44c8-9eda-7ad9ac3e64b0"
      },
      "outputs": [
        {
          "output_type": "stream",
          "name": "stdout",
          "text": [
            "              precision    recall  f1-score   support\n",
            "\n",
            "      Benign       0.81      0.95      0.87     32615\n",
            "   Malignant       0.61      0.26      0.36      9924\n",
            "\n",
            "    accuracy                           0.79     42539\n",
            "   macro avg       0.71      0.60      0.62     42539\n",
            "weighted avg       0.76      0.79      0.75     42539\n",
            "\n"
          ]
        }
      ],
      "execution_count": null
    },
    {
      "cell_type": "code",
      "source": [
        "#DecisionTree\n",
        "model = DecisionTreeClassifier()\n",
        "model.fit(X_train,y_train)\n",
        "y_pre = model.predict(X_test)\n",
        "evaluate_model('DecisionTree',y_test, y_pre)\n",
        "print(classification_report(y_test, y_pre))"
      ],
      "metadata": {
        "trusted": true,
        "execution": {
          "iopub.status.busy": "2025-02-11T15:19:03.517567Z",
          "iopub.execute_input": "2025-02-11T15:19:03.517897Z",
          "iopub.status.idle": "2025-02-11T15:19:06.115492Z",
          "shell.execute_reply.started": "2025-02-11T15:19:03.517842Z",
          "shell.execute_reply": "2025-02-11T15:19:06.114442Z"
        },
        "id": "7PpvPlp1m0iK",
        "colab": {
          "base_uri": "https://localhost:8080/"
        },
        "outputId": "59ed0286-8bc5-483c-81ae-4d589f46f9ba"
      },
      "outputs": [
        {
          "output_type": "stream",
          "name": "stdout",
          "text": [
            "              precision    recall  f1-score   support\n",
            "\n",
            "      Benign       0.81      0.80      0.80     32615\n",
            "   Malignant       0.37      0.40      0.38      9924\n",
            "\n",
            "    accuracy                           0.70     42539\n",
            "   macro avg       0.59      0.60      0.59     42539\n",
            "weighted avg       0.71      0.70      0.71     42539\n",
            "\n"
          ]
        }
      ],
      "execution_count": null
    },
    {
      "cell_type": "code",
      "source": [
        "#RandomForest\n",
        "model = RandomForestClassifier()\n",
        "model.fit(X_train,y_train)\n",
        "y_pre = model.predict(X_test)\n",
        "evaluate_model('RandomForest',y_test, y_pre)\n",
        "print(classification_report(y_test, y_pre))"
      ],
      "metadata": {
        "trusted": true,
        "execution": {
          "iopub.status.busy": "2025-02-11T15:19:09.47731Z",
          "iopub.execute_input": "2025-02-11T15:19:09.477677Z",
          "iopub.status.idle": "2025-02-11T15:19:43.64683Z",
          "shell.execute_reply.started": "2025-02-11T15:19:09.477644Z",
          "shell.execute_reply": "2025-02-11T15:19:43.645786Z"
        },
        "id": "gFIJKG4Em0iL",
        "colab": {
          "base_uri": "https://localhost:8080/"
        },
        "outputId": "d5674283-a36c-409d-ba9f-579027d8cd7d"
      },
      "outputs": [
        {
          "output_type": "stream",
          "name": "stdout",
          "text": [
            "              precision    recall  f1-score   support\n",
            "\n",
            "      Benign       0.85      0.94      0.89     32615\n",
            "   Malignant       0.69      0.44      0.54      9924\n",
            "\n",
            "    accuracy                           0.82     42539\n",
            "   macro avg       0.77      0.69      0.72     42539\n",
            "weighted avg       0.81      0.82      0.81     42539\n",
            "\n"
          ]
        }
      ],
      "execution_count": null
    },
    {
      "cell_type": "code",
      "source": [
        "#LogisticRegression\n",
        "model = LogisticRegression(max_iter=1000)\n",
        "model.fit(X_train,y_train)\n",
        "y_pre = model.predict(X_test)\n",
        "evaluate_model('LogisticRegression',y_test, y_pre)\n",
        "print(classification_report(y_test, y_pre))"
      ],
      "metadata": {
        "trusted": true,
        "execution": {
          "iopub.status.busy": "2025-02-11T15:19:48.627078Z",
          "iopub.execute_input": "2025-02-11T15:19:48.62735Z",
          "iopub.status.idle": "2025-02-11T15:19:51.120272Z",
          "shell.execute_reply.started": "2025-02-11T15:19:48.627319Z",
          "shell.execute_reply": "2025-02-11T15:19:51.119233Z"
        },
        "id": "3-e2g8-vm0iL",
        "colab": {
          "base_uri": "https://localhost:8080/"
        },
        "outputId": "9a573fd5-60bc-48ce-fa5b-30950e8175e2"
      },
      "outputs": [
        {
          "output_type": "stream",
          "name": "stdout",
          "text": [
            "              precision    recall  f1-score   support\n",
            "\n",
            "      Benign       0.85      0.94      0.89     32615\n",
            "   Malignant       0.69      0.43      0.53      9924\n",
            "\n",
            "    accuracy                           0.82     42539\n",
            "   macro avg       0.77      0.69      0.71     42539\n",
            "weighted avg       0.81      0.82      0.81     42539\n",
            "\n"
          ]
        }
      ],
      "execution_count": null
    },
    {
      "cell_type": "code",
      "source": [
        "#GradientBoosting\n",
        "model = GradientBoostingClassifier()\n",
        "model.fit(X_train, y_train)\n",
        "y_pre = model.predict(X_test)\n",
        "evaluate_model('GradientBoosting', y_test, y_pre)\n",
        "print(classification_report(y_test, y_pre))\n"
      ],
      "metadata": {
        "colab": {
          "base_uri": "https://localhost:8080/"
        },
        "id": "IDQndWSGGUYY",
        "outputId": "9157600b-399b-4430-9b92-0e9e56dbeadf"
      },
      "execution_count": null,
      "outputs": [
        {
          "output_type": "stream",
          "name": "stdout",
          "text": [
            "              precision    recall  f1-score   support\n",
            "\n",
            "      Benign       0.85      0.94      0.89     32615\n",
            "   Malignant       0.69      0.45      0.54      9924\n",
            "\n",
            "    accuracy                           0.83     42539\n",
            "   macro avg       0.77      0.69      0.72     42539\n",
            "weighted avg       0.81      0.83      0.81     42539\n",
            "\n"
          ]
        }
      ]
    },
    {
      "cell_type": "code",
      "source": [
        "#AdaBoost\n",
        "model = AdaBoostClassifier()\n",
        "model.fit(X_train, y_train)\n",
        "y_pre = model.predict(X_test)\n",
        "evaluate_model('AdaBoost', y_test, y_pre)\n",
        "print(classification_report(y_test, y_pre))\n"
      ],
      "metadata": {
        "id": "4HDSXhO6GwWp",
        "colab": {
          "base_uri": "https://localhost:8080/"
        },
        "outputId": "6672cca2-0c0a-4386-b8e8-82b16bc218e3"
      },
      "execution_count": null,
      "outputs": [
        {
          "output_type": "stream",
          "name": "stdout",
          "text": [
            "              precision    recall  f1-score   support\n",
            "\n",
            "      Benign       0.85      0.94      0.89     32615\n",
            "   Malignant       0.69      0.45      0.54      9924\n",
            "\n",
            "    accuracy                           0.83     42539\n",
            "   macro avg       0.77      0.69      0.72     42539\n",
            "weighted avg       0.81      0.83      0.81     42539\n",
            "\n"
          ]
        }
      ]
    },
    {
      "cell_type": "code",
      "source": [
        "#GaussianNB\n",
        "model = GaussianNB()\n",
        "model.fit(X_train, y_train)\n",
        "y_pre = model.predict(X_test)\n",
        "evaluate_model('GaussianNB', y_test, y_pre)\n",
        "print(classification_report(y_test, y_pre))\n"
      ],
      "metadata": {
        "id": "ngfVjM81IaGU",
        "colab": {
          "base_uri": "https://localhost:8080/"
        },
        "outputId": "9b33a130-db3b-40ad-b75a-258ff47bd8da"
      },
      "execution_count": null,
      "outputs": [
        {
          "output_type": "stream",
          "name": "stdout",
          "text": [
            "              precision    recall  f1-score   support\n",
            "\n",
            "      Benign       0.85      0.92      0.88     32615\n",
            "   Malignant       0.64      0.46      0.53      9924\n",
            "\n",
            "    accuracy                           0.81     42539\n",
            "   macro avg       0.74      0.69      0.71     42539\n",
            "weighted avg       0.80      0.81      0.80     42539\n",
            "\n"
          ]
        }
      ]
    },
    {
      "cell_type": "code",
      "source": [
        "#ExtraTrees\n",
        "model = ExtraTreesClassifier()\n",
        "model.fit(X_train, y_train)\n",
        "y_pre = model.predict(X_test)\n",
        "evaluate_model('ExtraTrees', y_test, y_pre)\n",
        "print(classification_report(y_test, y_pre))\n"
      ],
      "metadata": {
        "id": "OQhZnb1uImUV",
        "colab": {
          "base_uri": "https://localhost:8080/"
        },
        "outputId": "c2367f7e-4c24-4171-e90a-cf506c4fab0b"
      },
      "execution_count": null,
      "outputs": [
        {
          "output_type": "stream",
          "name": "stdout",
          "text": [
            "              precision    recall  f1-score   support\n",
            "\n",
            "      Benign       0.84      0.94      0.89     32615\n",
            "   Malignant       0.69      0.43      0.53      9924\n",
            "\n",
            "    accuracy                           0.82     42539\n",
            "   macro avg       0.77      0.69      0.71     42539\n",
            "weighted avg       0.81      0.82      0.81     42539\n",
            "\n"
          ]
        }
      ]
    },
    {
      "cell_type": "code",
      "source": [
        "#MLP Classifier\n",
        "model = MLPClassifier(hidden_layer_sizes=(100,), max_iter=500, random_state=42)\n",
        "model.fit(X_train, y_train)\n",
        "y_pred = model.predict(X_test)\n",
        "evaluate_model('MLP Classifier', y_test, y_pred)\n",
        "print(classification_report(y_test, y_pred))\n"
      ],
      "metadata": {
        "colab": {
          "base_uri": "https://localhost:8080/"
        },
        "id": "TnaRVOyhN3eG",
        "outputId": "ebf06042-6f9c-4d8f-d5d2-8eebc1a5baaa"
      },
      "execution_count": null,
      "outputs": [
        {
          "output_type": "stream",
          "name": "stdout",
          "text": [
            "              precision    recall  f1-score   support\n",
            "\n",
            "      Benign       0.85      0.94      0.89     32615\n",
            "   Malignant       0.69      0.45      0.54      9924\n",
            "\n",
            "    accuracy                           0.82     42539\n",
            "   macro avg       0.77      0.69      0.72     42539\n",
            "weighted avg       0.81      0.82      0.81     42539\n",
            "\n"
          ]
        }
      ]
    },
    {
      "cell_type": "code",
      "source": [
        "#Use ANN\n",
        "from sklearn.preprocessing import StandardScaler\n",
        "from sklearn.preprocessing import LabelEncoder\n",
        "from keras.models import Sequential\n",
        "from keras.layers import Dense\n",
        "import numpy as np\n",
        "# Scale the features\n",
        "sc = StandardScaler()\n",
        "X_train = sc.fit_transform(X_train)\n",
        "X_test = sc.transform(X_test)\n",
        "\n",
        "# Encode the target variable\n",
        "label_encoder = LabelEncoder()\n",
        "y_train = label_encoder.fit_transform(y_train)\n",
        "y_test = label_encoder.transform(y_test)\n",
        "\n",
        "# Reshape y_train and y_test for Keras\n",
        "y_train = np.reshape(y_train, (-1, 1))\n",
        "y_test = np.reshape(y_test, (-1, 1))\n",
        "\n",
        "\n",
        "classifier = Sequential()\n",
        "# Adding the input layer and the first hidden layer\n",
        "# Changed input_dim from 12 to 15 to match the number of features in X_train\n",
        "classifier.add(Dense(units = 6, kernel_initializer = 'uniform', activation = 'relu', input_dim = 15))\n",
        "\n",
        "# Adding the second hidden layer\n",
        "classifier.add(Dense(units = 6, kernel_initializer = 'uniform', activation = 'relu'))\n",
        "\n",
        "# Adding the output layer\n",
        "classifier.add(Dense(units = 1, kernel_initializer = 'uniform', activation = 'sigmoid'))\n",
        "\n",
        "# Compiling the ANN | means applying SGD on the whole ANN\n",
        "classifier.compile(optimizer = 'adam', loss = 'binary_crossentropy', metrics = ['accuracy'])\n",
        "\n",
        "# Fitting the ANN to the Training set\n",
        "classifier.fit(X_train, y_train, batch_size = 10, epochs = 100,verbose = 0)\n",
        "\n",
        "score, acc = classifier.evaluate(X_train, y_train,\n",
        "                            batch_size=10)\n",
        "print('Train score:', score)\n",
        "print('Train accuracy:', acc)\n",
        "# Part 3 - Making predictions and evaluating the model\n",
        "\n",
        "# Predicting the Test set results\n",
        "y_pred = classifier.predict(X_test)\n",
        "y_pred = (y_pred > 0.5)\n",
        "\n",
        "print('*'*20)\n",
        "score, acc = classifier.evaluate(X_test, y_test,batch_size=10)\n",
        "print('Test score:', score)\n",
        "print('Test accuracy:', acc)\n",
        "# Making the Confusion Matrix\n",
        "cm = confusion_matrix(y_test, y_pred)\n",
        "evaluate_model('ANN', y_test, y_pred)\n"
      ],
      "metadata": {
        "colab": {
          "base_uri": "https://localhost:8080/"
        },
        "id": "1cuymZWXOWNN",
        "outputId": "e2d0df9b-d732-4691-dec0-97f1392a66d2"
      },
      "execution_count": null,
      "outputs": [
        {
          "output_type": "stream",
          "name": "stderr",
          "text": [
            "/usr/local/lib/python3.11/dist-packages/sklearn/preprocessing/_label.py:110: DataConversionWarning: A column-vector y was passed when a 1d array was expected. Please change the shape of y to (n_samples, ), for example using ravel().\n",
            "  y = column_or_1d(y, warn=True)\n",
            "/usr/local/lib/python3.11/dist-packages/sklearn/preprocessing/_label.py:129: DataConversionWarning: A column-vector y was passed when a 1d array was expected. Please change the shape of y to (n_samples, ), for example using ravel().\n",
            "  y = column_or_1d(y, dtype=self.classes_.dtype, warn=True)\n",
            "/usr/local/lib/python3.11/dist-packages/keras/src/layers/core/dense.py:87: UserWarning: Do not pass an `input_shape`/`input_dim` argument to a layer. When using Sequential models, prefer using an `Input(shape)` object as the first layer in the model instead.\n",
            "  super().__init__(activity_regularizer=activity_regularizer, **kwargs)\n"
          ]
        },
        {
          "output_type": "stream",
          "name": "stdout",
          "text": [
            "\u001b[1m17016/17016\u001b[0m \u001b[32m━━━━━━━━━━━━━━━━━━━━\u001b[0m\u001b[37m\u001b[0m \u001b[1m26s\u001b[0m 2ms/step - accuracy: 0.8272 - loss: 0.4513\n",
            "Train score: 0.4505978524684906\n",
            "Train accuracy: 0.8279303312301636\n",
            "\u001b[1m1330/1330\u001b[0m \u001b[32m━━━━━━━━━━━━━━━━━━━━\u001b[0m\u001b[37m\u001b[0m \u001b[1m1s\u001b[0m 1ms/step  \n",
            "********************\n",
            "\u001b[1m4254/4254\u001b[0m \u001b[32m━━━━━━━━━━━━━━━━━━━━\u001b[0m\u001b[37m\u001b[0m \u001b[1m7s\u001b[0m 2ms/step - accuracy: 0.8260 - loss: 0.4534\n",
            "Test score: 0.4548117220401764\n",
            "Test accuracy: 0.8250546455383301\n"
          ]
        },
        {
          "output_type": "execute_result",
          "data": {
            "text/plain": [
              "{'accuracy': 0.8250546557276852,\n",
              " 'f1_score': 0.810644000930149,\n",
              " 'recall': 0.8250546557276852,\n",
              " 'precision': 0.8122654260064036}"
            ]
          },
          "metadata": {},
          "execution_count": 34
        }
      ]
    },
    {
      "cell_type": "markdown",
      "source": [
        "#The Result"
      ],
      "metadata": {
        "id": "9aML5K0QYXzH"
      }
    },
    {
      "cell_type": "code",
      "source": [
        "res_df = pd.DataFrame(res)\n",
        "res_df"
      ],
      "metadata": {
        "colab": {
          "base_uri": "https://localhost:8080/",
          "height": 175
        },
        "id": "4450vUTZYeGs",
        "outputId": "acc6802f-35fd-492d-c9f7-4361c9895d34"
      },
      "execution_count": null,
      "outputs": [
        {
          "output_type": "execute_result",
          "data": {
            "text/plain": [
              "                KNN  DecisionTree  RandomForest  LogisticRegression  \\\n",
              "accuracy   0.788994      0.702931      0.824232            0.823292   \n",
              "f1_score   0.754583      0.706142      0.809123            0.807629   \n",
              "recall     0.788994      0.702931      0.824232            0.823292   \n",
              "precision  0.762699      0.709656      0.811227            0.810054   \n",
              "\n",
              "           GradientBoosting  AdaBoost  GaussianNB  ExtraTrees  MLP Classifier  \\\n",
              "accuracy           0.825008  0.825055     0.81363    0.822422        0.824984   \n",
              "f1_score           0.810582  0.810644     0.80211    0.806554        0.810541   \n",
              "recall             0.825008  0.825055     0.81363    0.822422        0.824984   \n",
              "precision          0.812207  0.812265     0.79988    0.808966        0.812177   \n",
              "\n",
              "                ANN  \n",
              "accuracy   0.825055  \n",
              "f1_score   0.810644  \n",
              "recall     0.825055  \n",
              "precision  0.812265  "
            ],
            "text/html": [
              "\n",
              "  <div id=\"df-8124522f-6165-4302-8723-7485aedd9bdf\" class=\"colab-df-container\">\n",
              "    <div>\n",
              "<style scoped>\n",
              "    .dataframe tbody tr th:only-of-type {\n",
              "        vertical-align: middle;\n",
              "    }\n",
              "\n",
              "    .dataframe tbody tr th {\n",
              "        vertical-align: top;\n",
              "    }\n",
              "\n",
              "    .dataframe thead th {\n",
              "        text-align: right;\n",
              "    }\n",
              "</style>\n",
              "<table border=\"1\" class=\"dataframe\">\n",
              "  <thead>\n",
              "    <tr style=\"text-align: right;\">\n",
              "      <th></th>\n",
              "      <th>KNN</th>\n",
              "      <th>DecisionTree</th>\n",
              "      <th>RandomForest</th>\n",
              "      <th>LogisticRegression</th>\n",
              "      <th>GradientBoosting</th>\n",
              "      <th>AdaBoost</th>\n",
              "      <th>GaussianNB</th>\n",
              "      <th>ExtraTrees</th>\n",
              "      <th>MLP Classifier</th>\n",
              "      <th>ANN</th>\n",
              "    </tr>\n",
              "  </thead>\n",
              "  <tbody>\n",
              "    <tr>\n",
              "      <th>accuracy</th>\n",
              "      <td>0.788994</td>\n",
              "      <td>0.702931</td>\n",
              "      <td>0.824232</td>\n",
              "      <td>0.823292</td>\n",
              "      <td>0.825008</td>\n",
              "      <td>0.825055</td>\n",
              "      <td>0.81363</td>\n",
              "      <td>0.822422</td>\n",
              "      <td>0.824984</td>\n",
              "      <td>0.825055</td>\n",
              "    </tr>\n",
              "    <tr>\n",
              "      <th>f1_score</th>\n",
              "      <td>0.754583</td>\n",
              "      <td>0.706142</td>\n",
              "      <td>0.809123</td>\n",
              "      <td>0.807629</td>\n",
              "      <td>0.810582</td>\n",
              "      <td>0.810644</td>\n",
              "      <td>0.80211</td>\n",
              "      <td>0.806554</td>\n",
              "      <td>0.810541</td>\n",
              "      <td>0.810644</td>\n",
              "    </tr>\n",
              "    <tr>\n",
              "      <th>recall</th>\n",
              "      <td>0.788994</td>\n",
              "      <td>0.702931</td>\n",
              "      <td>0.824232</td>\n",
              "      <td>0.823292</td>\n",
              "      <td>0.825008</td>\n",
              "      <td>0.825055</td>\n",
              "      <td>0.81363</td>\n",
              "      <td>0.822422</td>\n",
              "      <td>0.824984</td>\n",
              "      <td>0.825055</td>\n",
              "    </tr>\n",
              "    <tr>\n",
              "      <th>precision</th>\n",
              "      <td>0.762699</td>\n",
              "      <td>0.709656</td>\n",
              "      <td>0.811227</td>\n",
              "      <td>0.810054</td>\n",
              "      <td>0.812207</td>\n",
              "      <td>0.812265</td>\n",
              "      <td>0.79988</td>\n",
              "      <td>0.808966</td>\n",
              "      <td>0.812177</td>\n",
              "      <td>0.812265</td>\n",
              "    </tr>\n",
              "  </tbody>\n",
              "</table>\n",
              "</div>\n",
              "    <div class=\"colab-df-buttons\">\n",
              "\n",
              "  <div class=\"colab-df-container\">\n",
              "    <button class=\"colab-df-convert\" onclick=\"convertToInteractive('df-8124522f-6165-4302-8723-7485aedd9bdf')\"\n",
              "            title=\"Convert this dataframe to an interactive table.\"\n",
              "            style=\"display:none;\">\n",
              "\n",
              "  <svg xmlns=\"http://www.w3.org/2000/svg\" height=\"24px\" viewBox=\"0 -960 960 960\">\n",
              "    <path d=\"M120-120v-720h720v720H120Zm60-500h600v-160H180v160Zm220 220h160v-160H400v160Zm0 220h160v-160H400v160ZM180-400h160v-160H180v160Zm440 0h160v-160H620v160ZM180-180h160v-160H180v160Zm440 0h160v-160H620v160Z\"/>\n",
              "  </svg>\n",
              "    </button>\n",
              "\n",
              "  <style>\n",
              "    .colab-df-container {\n",
              "      display:flex;\n",
              "      gap: 12px;\n",
              "    }\n",
              "\n",
              "    .colab-df-convert {\n",
              "      background-color: #E8F0FE;\n",
              "      border: none;\n",
              "      border-radius: 50%;\n",
              "      cursor: pointer;\n",
              "      display: none;\n",
              "      fill: #1967D2;\n",
              "      height: 32px;\n",
              "      padding: 0 0 0 0;\n",
              "      width: 32px;\n",
              "    }\n",
              "\n",
              "    .colab-df-convert:hover {\n",
              "      background-color: #E2EBFA;\n",
              "      box-shadow: 0px 1px 2px rgba(60, 64, 67, 0.3), 0px 1px 3px 1px rgba(60, 64, 67, 0.15);\n",
              "      fill: #174EA6;\n",
              "    }\n",
              "\n",
              "    .colab-df-buttons div {\n",
              "      margin-bottom: 4px;\n",
              "    }\n",
              "\n",
              "    [theme=dark] .colab-df-convert {\n",
              "      background-color: #3B4455;\n",
              "      fill: #D2E3FC;\n",
              "    }\n",
              "\n",
              "    [theme=dark] .colab-df-convert:hover {\n",
              "      background-color: #434B5C;\n",
              "      box-shadow: 0px 1px 3px 1px rgba(0, 0, 0, 0.15);\n",
              "      filter: drop-shadow(0px 1px 2px rgba(0, 0, 0, 0.3));\n",
              "      fill: #FFFFFF;\n",
              "    }\n",
              "  </style>\n",
              "\n",
              "    <script>\n",
              "      const buttonEl =\n",
              "        document.querySelector('#df-8124522f-6165-4302-8723-7485aedd9bdf button.colab-df-convert');\n",
              "      buttonEl.style.display =\n",
              "        google.colab.kernel.accessAllowed ? 'block' : 'none';\n",
              "\n",
              "      async function convertToInteractive(key) {\n",
              "        const element = document.querySelector('#df-8124522f-6165-4302-8723-7485aedd9bdf');\n",
              "        const dataTable =\n",
              "          await google.colab.kernel.invokeFunction('convertToInteractive',\n",
              "                                                    [key], {});\n",
              "        if (!dataTable) return;\n",
              "\n",
              "        const docLinkHtml = 'Like what you see? Visit the ' +\n",
              "          '<a target=\"_blank\" href=https://colab.research.google.com/notebooks/data_table.ipynb>data table notebook</a>'\n",
              "          + ' to learn more about interactive tables.';\n",
              "        element.innerHTML = '';\n",
              "        dataTable['output_type'] = 'display_data';\n",
              "        await google.colab.output.renderOutput(dataTable, element);\n",
              "        const docLink = document.createElement('div');\n",
              "        docLink.innerHTML = docLinkHtml;\n",
              "        element.appendChild(docLink);\n",
              "      }\n",
              "    </script>\n",
              "  </div>\n",
              "\n",
              "\n",
              "<div id=\"df-940c3458-b6d8-4c6f-a0f0-aba335e302a8\">\n",
              "  <button class=\"colab-df-quickchart\" onclick=\"quickchart('df-940c3458-b6d8-4c6f-a0f0-aba335e302a8')\"\n",
              "            title=\"Suggest charts\"\n",
              "            style=\"display:none;\">\n",
              "\n",
              "<svg xmlns=\"http://www.w3.org/2000/svg\" height=\"24px\"viewBox=\"0 0 24 24\"\n",
              "     width=\"24px\">\n",
              "    <g>\n",
              "        <path d=\"M19 3H5c-1.1 0-2 .9-2 2v14c0 1.1.9 2 2 2h14c1.1 0 2-.9 2-2V5c0-1.1-.9-2-2-2zM9 17H7v-7h2v7zm4 0h-2V7h2v10zm4 0h-2v-4h2v4z\"/>\n",
              "    </g>\n",
              "</svg>\n",
              "  </button>\n",
              "\n",
              "<style>\n",
              "  .colab-df-quickchart {\n",
              "      --bg-color: #E8F0FE;\n",
              "      --fill-color: #1967D2;\n",
              "      --hover-bg-color: #E2EBFA;\n",
              "      --hover-fill-color: #174EA6;\n",
              "      --disabled-fill-color: #AAA;\n",
              "      --disabled-bg-color: #DDD;\n",
              "  }\n",
              "\n",
              "  [theme=dark] .colab-df-quickchart {\n",
              "      --bg-color: #3B4455;\n",
              "      --fill-color: #D2E3FC;\n",
              "      --hover-bg-color: #434B5C;\n",
              "      --hover-fill-color: #FFFFFF;\n",
              "      --disabled-bg-color: #3B4455;\n",
              "      --disabled-fill-color: #666;\n",
              "  }\n",
              "\n",
              "  .colab-df-quickchart {\n",
              "    background-color: var(--bg-color);\n",
              "    border: none;\n",
              "    border-radius: 50%;\n",
              "    cursor: pointer;\n",
              "    display: none;\n",
              "    fill: var(--fill-color);\n",
              "    height: 32px;\n",
              "    padding: 0;\n",
              "    width: 32px;\n",
              "  }\n",
              "\n",
              "  .colab-df-quickchart:hover {\n",
              "    background-color: var(--hover-bg-color);\n",
              "    box-shadow: 0 1px 2px rgba(60, 64, 67, 0.3), 0 1px 3px 1px rgba(60, 64, 67, 0.15);\n",
              "    fill: var(--button-hover-fill-color);\n",
              "  }\n",
              "\n",
              "  .colab-df-quickchart-complete:disabled,\n",
              "  .colab-df-quickchart-complete:disabled:hover {\n",
              "    background-color: var(--disabled-bg-color);\n",
              "    fill: var(--disabled-fill-color);\n",
              "    box-shadow: none;\n",
              "  }\n",
              "\n",
              "  .colab-df-spinner {\n",
              "    border: 2px solid var(--fill-color);\n",
              "    border-color: transparent;\n",
              "    border-bottom-color: var(--fill-color);\n",
              "    animation:\n",
              "      spin 1s steps(1) infinite;\n",
              "  }\n",
              "\n",
              "  @keyframes spin {\n",
              "    0% {\n",
              "      border-color: transparent;\n",
              "      border-bottom-color: var(--fill-color);\n",
              "      border-left-color: var(--fill-color);\n",
              "    }\n",
              "    20% {\n",
              "      border-color: transparent;\n",
              "      border-left-color: var(--fill-color);\n",
              "      border-top-color: var(--fill-color);\n",
              "    }\n",
              "    30% {\n",
              "      border-color: transparent;\n",
              "      border-left-color: var(--fill-color);\n",
              "      border-top-color: var(--fill-color);\n",
              "      border-right-color: var(--fill-color);\n",
              "    }\n",
              "    40% {\n",
              "      border-color: transparent;\n",
              "      border-right-color: var(--fill-color);\n",
              "      border-top-color: var(--fill-color);\n",
              "    }\n",
              "    60% {\n",
              "      border-color: transparent;\n",
              "      border-right-color: var(--fill-color);\n",
              "    }\n",
              "    80% {\n",
              "      border-color: transparent;\n",
              "      border-right-color: var(--fill-color);\n",
              "      border-bottom-color: var(--fill-color);\n",
              "    }\n",
              "    90% {\n",
              "      border-color: transparent;\n",
              "      border-bottom-color: var(--fill-color);\n",
              "    }\n",
              "  }\n",
              "</style>\n",
              "\n",
              "  <script>\n",
              "    async function quickchart(key) {\n",
              "      const quickchartButtonEl =\n",
              "        document.querySelector('#' + key + ' button');\n",
              "      quickchartButtonEl.disabled = true;  // To prevent multiple clicks.\n",
              "      quickchartButtonEl.classList.add('colab-df-spinner');\n",
              "      try {\n",
              "        const charts = await google.colab.kernel.invokeFunction(\n",
              "            'suggestCharts', [key], {});\n",
              "      } catch (error) {\n",
              "        console.error('Error during call to suggestCharts:', error);\n",
              "      }\n",
              "      quickchartButtonEl.classList.remove('colab-df-spinner');\n",
              "      quickchartButtonEl.classList.add('colab-df-quickchart-complete');\n",
              "    }\n",
              "    (() => {\n",
              "      let quickchartButtonEl =\n",
              "        document.querySelector('#df-940c3458-b6d8-4c6f-a0f0-aba335e302a8 button');\n",
              "      quickchartButtonEl.style.display =\n",
              "        google.colab.kernel.accessAllowed ? 'block' : 'none';\n",
              "    })();\n",
              "  </script>\n",
              "</div>\n",
              "\n",
              "  <div id=\"id_e56c1989-8fbd-4a45-8f5c-1f192f60679e\">\n",
              "    <style>\n",
              "      .colab-df-generate {\n",
              "        background-color: #E8F0FE;\n",
              "        border: none;\n",
              "        border-radius: 50%;\n",
              "        cursor: pointer;\n",
              "        display: none;\n",
              "        fill: #1967D2;\n",
              "        height: 32px;\n",
              "        padding: 0 0 0 0;\n",
              "        width: 32px;\n",
              "      }\n",
              "\n",
              "      .colab-df-generate:hover {\n",
              "        background-color: #E2EBFA;\n",
              "        box-shadow: 0px 1px 2px rgba(60, 64, 67, 0.3), 0px 1px 3px 1px rgba(60, 64, 67, 0.15);\n",
              "        fill: #174EA6;\n",
              "      }\n",
              "\n",
              "      [theme=dark] .colab-df-generate {\n",
              "        background-color: #3B4455;\n",
              "        fill: #D2E3FC;\n",
              "      }\n",
              "\n",
              "      [theme=dark] .colab-df-generate:hover {\n",
              "        background-color: #434B5C;\n",
              "        box-shadow: 0px 1px 3px 1px rgba(0, 0, 0, 0.15);\n",
              "        filter: drop-shadow(0px 1px 2px rgba(0, 0, 0, 0.3));\n",
              "        fill: #FFFFFF;\n",
              "      }\n",
              "    </style>\n",
              "    <button class=\"colab-df-generate\" onclick=\"generateWithVariable('res_df')\"\n",
              "            title=\"Generate code using this dataframe.\"\n",
              "            style=\"display:none;\">\n",
              "\n",
              "  <svg xmlns=\"http://www.w3.org/2000/svg\" height=\"24px\"viewBox=\"0 0 24 24\"\n",
              "       width=\"24px\">\n",
              "    <path d=\"M7,19H8.4L18.45,9,17,7.55,7,17.6ZM5,21V16.75L18.45,3.32a2,2,0,0,1,2.83,0l1.4,1.43a1.91,1.91,0,0,1,.58,1.4,1.91,1.91,0,0,1-.58,1.4L9.25,21ZM18.45,9,17,7.55Zm-12,3A5.31,5.31,0,0,0,4.9,8.1,5.31,5.31,0,0,0,1,6.5,5.31,5.31,0,0,0,4.9,4.9,5.31,5.31,0,0,0,6.5,1,5.31,5.31,0,0,0,8.1,4.9,5.31,5.31,0,0,0,12,6.5,5.46,5.46,0,0,0,6.5,12Z\"/>\n",
              "  </svg>\n",
              "    </button>\n",
              "    <script>\n",
              "      (() => {\n",
              "      const buttonEl =\n",
              "        document.querySelector('#id_e56c1989-8fbd-4a45-8f5c-1f192f60679e button.colab-df-generate');\n",
              "      buttonEl.style.display =\n",
              "        google.colab.kernel.accessAllowed ? 'block' : 'none';\n",
              "\n",
              "      buttonEl.onclick = () => {\n",
              "        google.colab.notebook.generateWithVariable('res_df');\n",
              "      }\n",
              "      })();\n",
              "    </script>\n",
              "  </div>\n",
              "\n",
              "    </div>\n",
              "  </div>\n"
            ],
            "application/vnd.google.colaboratory.intrinsic+json": {
              "type": "dataframe",
              "variable_name": "res_df",
              "summary": "{\n  \"name\": \"res_df\",\n  \"rows\": 4,\n  \"fields\": [\n    {\n      \"column\": \"KNN\",\n      \"properties\": {\n        \"dtype\": \"number\",\n        \"std\": 0.017834539638841,\n        \"min\": 0.7545831662815546,\n        \"max\": 0.7889936293753967,\n        \"num_unique_values\": 3,\n        \"samples\": [\n          0.7889936293753967,\n          0.7545831662815546,\n          0.7626989113634787\n        ],\n        \"semantic_type\": \"\",\n        \"description\": \"\"\n      }\n    },\n    {\n      \"column\": \"DecisionTree\",\n      \"properties\": {\n        \"dtype\": \"number\",\n        \"std\": 0.003206940391737677,\n        \"min\": 0.7029314276311149,\n        \"max\": 0.7096563297316779,\n        \"num_unique_values\": 3,\n        \"samples\": [\n          0.7029314276311149,\n          0.7061418142557125,\n          0.7096563297316779\n        ],\n        \"semantic_type\": \"\",\n        \"description\": \"\"\n      }\n    },\n    {\n      \"column\": \"RandomForest\",\n      \"properties\": {\n        \"dtype\": \"number\",\n        \"std\": 0.00816098902134926,\n        \"min\": 0.809123495372947,\n        \"max\": 0.8242318813324243,\n        \"num_unique_values\": 3,\n        \"samples\": [\n          0.8242318813324243,\n          0.809123495372947,\n          0.811226672886907\n        ],\n        \"semantic_type\": \"\",\n        \"description\": \"\"\n      }\n    },\n    {\n      \"column\": \"LogisticRegression\",\n      \"properties\": {\n        \"dtype\": \"number\",\n        \"std\": 0.008401280489313408,\n        \"min\": 0.8076293441231973,\n        \"max\": 0.8232915677378406,\n        \"num_unique_values\": 3,\n        \"samples\": [\n          0.8232915677378406,\n          0.8076293441231973,\n          0.8100535361170069\n        ],\n        \"semantic_type\": \"\",\n        \"description\": \"\"\n      }\n    },\n    {\n      \"column\": \"GradientBoosting\",\n      \"properties\": {\n        \"dtype\": \"number\",\n        \"std\": 0.007887312794016187,\n        \"min\": 0.8105824880489448,\n        \"max\": 0.825007640047956,\n        \"num_unique_values\": 3,\n        \"samples\": [\n          0.825007640047956,\n          0.8105824880489448,\n          0.8122071124724785\n        ],\n        \"semantic_type\": \"\",\n        \"description\": \"\"\n      }\n    },\n    {\n      \"column\": \"AdaBoost\",\n      \"properties\": {\n        \"dtype\": \"number\",\n        \"std\": 0.00787978297286184,\n        \"min\": 0.810644000930149,\n        \"max\": 0.8250546557276852,\n        \"num_unique_values\": 3,\n        \"samples\": [\n          0.8250546557276852,\n          0.810644000930149,\n          0.8122654260064036\n        ],\n        \"semantic_type\": \"\",\n        \"description\": \"\"\n      }\n    },\n    {\n      \"column\": \"GaussianNB\",\n      \"properties\": {\n        \"dtype\": \"number\",\n        \"std\": 0.007351440964730138,\n        \"min\": 0.7998798363902437,\n        \"max\": 0.813629845553492,\n        \"num_unique_values\": 3,\n        \"samples\": [\n          0.813629845553492,\n          0.8021097262308725,\n          0.7998798363902437\n        ],\n        \"semantic_type\": \"\",\n        \"description\": \"\"\n      }\n    },\n    {\n      \"column\": \"ExtraTrees\",\n      \"properties\": {\n        \"dtype\": \"number\",\n        \"std\": 0.008522052426875041,\n        \"min\": 0.8065542408805614,\n        \"max\": 0.8224217776628505,\n        \"num_unique_values\": 3,\n        \"samples\": [\n          0.8224217776628505,\n          0.8065542408805614,\n          0.8089657021121804\n        ],\n        \"semantic_type\": \"\",\n        \"description\": \"\"\n      }\n    },\n    {\n      \"column\": \"MLP Classifier\",\n      \"properties\": {\n        \"dtype\": \"number\",\n        \"std\": 0.00789466219935395,\n        \"min\": 0.8105410973721542,\n        \"max\": 0.8249841322080914,\n        \"num_unique_values\": 3,\n        \"samples\": [\n          0.8249841322080914,\n          0.8105410973721542,\n          0.8121773266311593\n        ],\n        \"semantic_type\": \"\",\n        \"description\": \"\"\n      }\n    },\n    {\n      \"column\": \"ANN\",\n      \"properties\": {\n        \"dtype\": \"number\",\n        \"std\": 0.00787978297286184,\n        \"min\": 0.810644000930149,\n        \"max\": 0.8250546557276852,\n        \"num_unique_values\": 3,\n        \"samples\": [\n          0.8250546557276852,\n          0.810644000930149,\n          0.8122654260064036\n        ],\n        \"semantic_type\": \"\",\n        \"description\": \"\"\n      }\n    }\n  ]\n}"
            }
          },
          "metadata": {},
          "execution_count": 42
        }
      ]
    },
    {
      "cell_type": "code",
      "source": [
        "\n",
        "plt.figure(figsize=(10, 6))\n",
        "sns.heatmap(res_df.T, annot=True, cmap='viridis', fmt=\".3f\")\n",
        "plt.title('Model Performance Comparison')\n",
        "plt.xlabel('Metric')\n",
        "plt.ylabel('Model')\n",
        "plt.show()\n"
      ],
      "metadata": {
        "colab": {
          "base_uri": "https://localhost:8080/",
          "height": 564
        },
        "id": "GFZb6dQJFvI-",
        "outputId": "77dcf11f-9769-45fe-885c-ad5eb11327da"
      },
      "execution_count": null,
      "outputs": [
        {
          "output_type": "display_data",
          "data": {
            "text/plain": [
              "<Figure size 1000x600 with 2 Axes>"
            ],
            "image/png": "[encoded data removed]"
          },
          "metadata": {}
        }
      ]
    },
    {
      "cell_type": "code",
      "source": [
        "ax = res_df.T.plot(kind='bar', figsize=(10, 6))\n",
        "plt.title('Model Performance Comparison')\n",
        "plt.xlabel('Model')\n",
        "plt.ylabel('performance')\n",
        "plt.xticks(rotation=45, ha='right')  # Rotate x-labels\n",
        "\n",
        "# Create the legend outside the plot\n",
        "plt.legend(bbox_to_anchor=(1.05, 1), loc='upper left')\n",
        "\n",
        "plt.tight_layout()\n",
        "plt.show()\n"
      ],
      "metadata": {
        "colab": {
          "base_uri": "https://localhost:8080/",
          "height": 607
        },
        "id": "koQaUhpBAob2",
        "outputId": "50556d1d-33b5-4bf3-aab1-26d9830fc362"
      },
      "execution_count": null,
      "outputs": [
        {
          "output_type": "display_data",
          "data": {
            "text/plain": [
              "<Figure size 1000x600 with 1 Axes>"
            ],
            "image/png": "[encoded data removed]"
          },
          "metadata": {}
        }
      ]
    }
  ]
}